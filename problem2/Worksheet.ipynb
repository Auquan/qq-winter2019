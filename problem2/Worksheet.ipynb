{
 "cells": [
  {
   "cell_type": "markdown",
   "metadata": {},
   "source": [
    "## Worksheet + Suggested Solver\n",
    "\n",
    "This worksheet follows a similar setup as the Problem 1 worksheet. Additionally, I have added a few suggestions on how to solve the problem.\n",
    "\n",
    "**Note: This is only a suggested way of solving the problem. This solution is in no way complete and needs significant improvements, something we hope the competition participants will be able to do.**\n",
    "\n",
    "**Step 1.** First convert all features into objective features - this makes modeling easier. To do this, assign a numeric value to every string. For example ```'F13': {'DB1': 4, 'DB2': 2, 'DB3': 0, 'DB4': 3, 'DB5': 1}```\n",
    "\n",
    "**Step 2.** Identify which Quality features are important. We can do this either by \n",
    "1. Find correlation between quality Qi and end of period TRR\n",
    "2. benchmark returns for every period as wi`*`Ri and break end of period TRR into three buckets: over perform index(TRR>wi`*`Ri), under perform index, +ve(TRR<wi`*`Ri, TRR>0), underperform index -ve (TRR<wi`*`Ri, TRR<0). Create a target variable `Y` and assign the following values: over perform index: 1 under perform index but +ve return: 0 underperform index and -ve return: -1. Find correlation between quality Qi and Y\n",
    "\n",
    "**Step 3.** (Optional) Train a model which uses the selected Quality features to predict which bucket the performance will be in, use F to predict `Y`. Train a few models to check which one is the best.\n",
    "\n",
    "**Step 4.** Define a new optimization objective function as wt`*`Qi(or Ypred) - transaction costs (We want as much weight as possible to be assigned to highest bucket). If using Ypred, run a model that first uses all the features (obviously not TRR!) to generate Ypred. Finally choose an optimizer to maximize this reward while meeting constraints.\n",
    "\n",
    "Below is a simple implementation of this model. Suggested improvements could be:\n",
    "1. Break performance into more granular buckets\n",
    "2. Use a better training mechanism to predict Y (or more feature engineering before predictions\n",
    "3. Define a better optimization objective function\n",
    "4. Use a better optimization method\n"
   ]
  },
  {
   "cell_type": "code",
   "execution_count": 1,
   "metadata": {},
   "outputs": [],
   "source": [
    "import pandas as pd\n",
    "import numpy as np\n",
    "import os.path\n",
    "try:\n",
    "    from urllib2 import urlopen\n",
    "except ImportError:\n",
    "    from urllib.request import urlopen"
   ]
  },
  {
   "cell_type": "code",
   "execution_count": 20,
   "metadata": {},
   "outputs": [],
   "source": [
    "#### LOAD THE HELPER FUNCTIONS BELOW####\n",
    "#### IMPORTANT: DONOT change these functions or your final submission will not evaluate correctly###\n",
    "\n",
    "## This downloads your datafile, Do not change this function\n",
    "def downloadFile(dataSetId):\n",
    "      fileName = '%s.csv' % (dataSetId)\n",
    "      url = 'https://s3.us-east-2.amazonaws.com/qq-data/qq8p2/' + fileName\n",
    "\n",
    "      response = urlopen(url)\n",
    "      status = response.getcode()\n",
    "      if status == 200:\n",
    "          print('Downloading the dataset %s' % (fileName))\n",
    "          with open(fileName, 'w') as f:\n",
    "              f.write(response.read().decode('utf8'))\n",
    "          return True\n",
    "      else:\n",
    "          logError('File not found. Please ensure you are working with correct data set Id')\n",
    "          return False\n"
   ]
  },
  {
   "cell_type": "code",
   "execution_count": 3,
   "metadata": {},
   "outputs": [],
   "source": [
    "## This calculates the reward, Do not change this function\n",
    "def getReward(wt, wt_1, ri, l, k):\n",
    "    if (ri is None) or (wt is None):\n",
    "        port_returns.append(0)\n",
    "        sharpe_ratio.append(0)\n",
    "        port_volatility.append(0)\n",
    "        reward = 0\n",
    "    else:\n",
    "        ri.fillna(0, inplace=True)\n",
    "        returns = np.dot(wt, ri)\n",
    "        port_returns.append(returns)\n",
    "        downside_returns = [x for x in port_returns if x < 0]\n",
    "        volatility = np.std(downside_returns) #np.sqrt(np.dot(weights.T, np.dot(cov_annual, weights)))\n",
    "        sharpe = np.sqrt(12)*np.mean(port_returns) / volatility if volatility!=0 else 0\n",
    "        sharpe_ratio.append(sharpe)\n",
    "        port_volatility.append(volatility)\n",
    "        if (wt_1 is None):\n",
    "            phi = 0\n",
    "        else:\n",
    "            ix = wt.index | wt_1.index\n",
    "            tn = wt.reindex(ix) - wt_1.reindex(ix)\n",
    "            tn[tn.isnull()&tn.index.isin(wt.index)] = wt\n",
    "            tn[tn.isnull()&tn.index.isin(wt_1.index)] = -wt_1\n",
    "            phi = k*tn.abs().sum()\n",
    "        reward = returns - l*volatility - phi\n",
    "#         print('returns, volatility, phi, sharpe, reward')\n",
    "#         print(returns, volatility, phi, sharpe, reward)\n",
    "    return reward\n",
    "\n",
    "## Do not change this function, this verifies if all constraints are met\n",
    "def checkConstraints(wt, wt_1, wi, Dt, St, Qt, g, U, t, T, P, delta, chi, eta):\n",
    "    violated = False\n",
    "    tol = 0.009\n",
    "    if np.abs(wt.sum()-1)>tol:\n",
    "        print(wt.sum())\n",
    "        print(\"Fully Invested Constraint Violated: Sum of weights is not 1\")\n",
    "        violated = True\n",
    "    div_constraint = np.maximum(g, 1/float(Qt.sum()))\n",
    "    if (wt.abs()-div_constraint>tol).any():\n",
    "        print(wt[(wt.abs()-div_constraint>tol)])\n",
    "        print(\"Diversification Constraint Violated: All weights are not less than parameter %.2f\"%div_constraint )\n",
    "        violated = True\n",
    "    if wt_1 is None:\n",
    "        turnover = 0\n",
    "    else:\n",
    "        ix = wt.index | wt_1.index\n",
    "        tn = wt.reindex(ix) - wt_1.reindex(ix)\n",
    "        tn[tn.isnull()&tn.index.isin(wt.index)] = wt\n",
    "        tn[tn.isnull()&tn.index.isin(wt_1.index)] = -wt_1\n",
    "        turnover = (tn).abs().sum()/2\n",
    "    turnover_list.append(turnover)\n",
    "    if (np.sum(turnover_list[-12:])>U):\n",
    "        print(\"%0.2f Turnover Constraint Violated: Turnover Limit exceeded\"%np.sum(turnover_list[-12:]))\n",
    "        violated = True\n",
    "    if (wt<t).any():\n",
    "        print(\"Shortsell Constraint Violated: all weights are not greater than parameter t\")\n",
    "        violated = True\n",
    "    if wt[wt<0].sum()<T:\n",
    "        print(\"Max Shortsell Constraint Violated: sum of all weights are not greater than parameter T\")\n",
    "        violated = True\n",
    "    if wt[wt!=0].count() < np.minimum(P, len(wt)):\n",
    "        print(\"Min number of positions Constraint Violated: count of all weights <>0 %i are not greater than parameter P%i\"%(wt[wt!=0].count(), np.minimum(P, len(wt))))\n",
    "        violated = True\n",
    "    if np.abs((wt*Dt).sum()/ (wi*Dt).sum()  - 1) - delta > tol:\n",
    "        print(\"Duration Constraint Violated: wt*Dt/ wi*Dt %.2f is greater than parameter delta\"%((wt*Dt).sum()/ (wi*Dt).sum()))\n",
    "        violated = True\n",
    "    if np.abs((wt*St).sum()/ (wi*St).sum() -1) - chi > tol:\n",
    "        print(\"Spread Constraint Violated: wt*St/ wi*St %.2f is greater than parameter chi\"%((wt*St).sum()/ (wi*St).sum()))\n",
    "        violated = True\n",
    "    if (wt*(1-Qt)).abs().sum()>tol:\n",
    "        print(\"Qualification Constraint Violated: wt*(1-qt) is not zero %.2f\"%(wt*(1-Qt)).abs().sum())\n",
    "        violated = True\n",
    "#     if returns - Rlow/ volatility <= np.sqrt(1-eta):\n",
    "#         print(\"Max Risk probability Constraint Violated: returns - Rlow/ volatility <= np.sqrt(1-eta)\")\n",
    "            \n",
    "    return violated\n",
    "\n",
    "## Do not change this function, this verifies if final constraints are met\n",
    "def checkFinalConstraints(Rmin, volmax):\n",
    "    violated = False\n",
    "    if np.sum(port_returns)<Rmin:\n",
    "        print(\"Total Return Constraint Violated: Total Return is less than Index Return\")\n",
    "        violated = True\n",
    "    if port_volatility[-1]>volmax:\n",
    "        print(\"Volatility Constraint Violated: Vol is higher than Index Vol\")\n",
    "        violated = True\n",
    "    if sharpe_ratio[-1]<Rmin/volmax:\n",
    "        print(\"Sharpe Ratio Constraint Violated: SR is less than Index SR\")\n",
    "        violated = True\n",
    "        return violated"
   ]
  },
  {
   "cell_type": "code",
   "execution_count": 4,
   "metadata": {},
   "outputs": [],
   "source": [
    "def getSymbolsToTrade():\n",
    "    ################################################\n",
    "    ####   COPY FROM BELOW INTO TEMPLATE FILE   ####\n",
    "    ################################################\n",
    "    \n",
    "    return 'G5'"
   ]
  },
  {
   "cell_type": "code",
   "execution_count": 6,
   "metadata": {},
   "outputs": [
    {
     "name": "stdout",
     "output_type": "stream",
     "text": [
      "(100225, 34)\n",
      "(100225, 34)\n",
      "Data Column Names:\n",
      "Index([u'AssetGroup', u'Identifier', u'F2', u'F3', u'F4', u'F5', u'q', u'F7',\n",
      "       u'F8', u'd', u'S', u'F11', u'F12', u'F13', u'F14', u'F15', u'F16',\n",
      "       u'F17', u'wI', u'F19', u'TRR', u'ERR', u'Q1', u'Q2', u'Q3', u'Q4',\n",
      "       u'Q5', u'Q6', u'Q7', u'Q8', u'Q9', u'Q10', u'Q11', u'Q12'],\n",
      "      dtype='object')\n",
      "('G5', '1998-12-31', '2018-11-30')\n",
      "           AssetGroup Identifier        F2                     F3  \\\n",
      "TimeStamp                                                           \n",
      "1998-12-31         G5   2157d781  7842ffa0          Capital Goods   \n",
      "1998-12-31         G5   9a809873  ea94ba48         Basic Industry   \n",
      "1998-12-31         G5   d6d61ada  bb0da828     Telecommunications   \n",
      "1998-12-31         G5   85524178  fd2492ce     Telecommunications   \n",
      "1998-12-31         G5   7b851467  dff84866                  Media   \n",
      "1998-12-31         G5   364db56c  dff84866                  Media   \n",
      "1998-12-31         G5   0e89b884  cc236bf2     Telecommunications   \n",
      "1998-12-31         G5   2d048d10  f179c166  Government Guaranteed   \n",
      "1998-12-31         G5   bc421377  207f452f         Transportation   \n",
      "1998-12-31         G5   4fe0cf73  052e9e5f            Real Estate   \n",
      "\n",
      "                                                  F4  F5  q    F7    F8  \\\n",
      "TimeStamp                                                                 \n",
      "1998-12-31                 Diversified Capital Goods   1  1    B1  14.0   \n",
      "1998-12-31                            Forestry/Paper   1  1    B2  15.0   \n",
      "1998-12-31                       Telecom - Satellite   1  1    B3  16.0   \n",
      "1998-12-31  Telecom - Wireline Integrated & Services   1  1    B2  15.0   \n",
      "1998-12-31                      Cable & Satellite TV   2  1    CC  20.0   \n",
      "1998-12-31                      Cable & Satellite TV   2  1  CCC2  18.0   \n",
      "1998-12-31  Telecom - Wireline Integrated & Services   4  0    B2  15.0   \n",
      "1998-12-31                     Government Guaranteed   2  1   BB2  12.0   \n",
      "1998-12-31         Transport Infrastructure/Services   1  1    B2  15.0   \n",
      "1998-12-31                      RealEstate Dev & Mgt   1  1  BBB2   9.0   \n",
      "\n",
      "                d ...   Q3  Q4   Q5   Q6  Q7   Q8   Q9  Q10  Q11  Q12  \n",
      "TimeStamp         ...                                                  \n",
      "1998-12-31  2.684 ...    0   1  7.0  0.0   1  4.0  0.0    1    0 -100  \n",
      "1998-12-31  2.349 ...   -2   0  5.0  4.0   1  1.0  4.0    0    0 -100  \n",
      "1998-12-31  3.824 ...   -4  -4  NaN  NaN  -4  NaN  NaN   -4   -4   -4  \n",
      "1998-12-31  7.526 ...   -4  -4  NaN  NaN  -4  NaN  NaN   -4   -4   -4  \n",
      "1998-12-31  2.816 ...   -1   0  5.0  0.0   1  2.0  0.0    0   -1   -1  \n",
      "1998-12-31  2.816 ...   -1   0  5.0  0.0   1  2.0  0.0    0   -1   -1  \n",
      "1998-12-31  0.457 ...   -4  -4  NaN  NaN  -4  NaN  NaN   -4   -4   -4  \n",
      "1998-12-31  2.722 ...   -4  -4  NaN  NaN  -4  NaN  NaN   -4   -4   -4  \n",
      "1998-12-31  3.827 ...   -4  -4  NaN  NaN  -4  NaN  NaN   -4   -4   -4  \n",
      "1998-12-31  5.505 ...   -3   0  1.0  9.0   0  0.0  6.0    0   -3   -3  \n",
      "\n",
      "[10 rows x 34 columns]\n"
     ]
    }
   ],
   "source": [
    "index = getSymbolsToTrade()\n",
    "### This is the file with all the features. You can use this for analysis and training\n",
    "if not os.path.isfile('%s.csv'%index):\n",
    "    downloadFile('%s'%index)\n",
    "### This is the file with all the features but no TRR. This will be used for evaluation\n",
    "if not os.path.isfile('%s_noTRR.csv'%index):\n",
    "    downloadFile(index)\n",
    "### This is the file with TRR. If you want to use TRR in actual logic, read from this file\n",
    "if not os.path.isfile('%s_TRR.csv'%index):\n",
    "    downloadFile('%s_TRR'%index)\n",
    "idx_data = pd.read_csv('%s.csv'%index, index_col='TimeStamp')\n",
    "idx_data.sort_index(axis=0, level=None, ascending=True, inplace=True)\n",
    "idx_data_noTRR = pd.read_csv('%s_noTRR.csv'%index, index_col='TimeStamp')\n",
    "idx_data_noTRR.sort_index(axis=0, level=None, ascending=True, inplace=True)\n",
    "idx_data_TRR = pd.read_csv('%s_TRR.csv'%index, index_col='TimeStamp')\n",
    "idx_data_TRR.sort_index(axis=0, level=None, ascending=True, inplace=True)\n",
    "print(idx_data.shape)\n",
    "idx_data=idx_data[~idx_data.duplicated()]\n",
    "print(idx_data.shape)\n",
    "print(\"Data Column Names:\")\n",
    "print(idx_data.columns)\n",
    "print(index, idx_data.index[0], idx_data.index[-1])\n",
    "print(idx_data.head(10))"
   ]
  },
  {
   "cell_type": "markdown",
   "metadata": {},
   "source": [
    "## Suggested Solver\n",
    "\n",
    "Step 1. convert all features into objective features"
   ]
  },
  {
   "cell_type": "code",
   "execution_count": 7,
   "metadata": {},
   "outputs": [
    {
     "name": "stdout",
     "output_type": "stream",
     "text": [
      "('AssetGroup', dtype('O'))\n",
      "('Identifier', dtype('O'))\n",
      "('F2', dtype('O'))\n",
      "('F3', dtype('O'))\n",
      "('F4', dtype('O'))\n",
      "('F7', dtype('O'))\n",
      "('F12', dtype('O'))\n",
      "('F13', dtype('O'))\n"
     ]
    }
   ],
   "source": [
    "for c in idx_data.columns:\n",
    "    if idx_data[c].dtype==object:\n",
    "        print(c, idx_data[c].dtype)"
   ]
  },
  {
   "cell_type": "code",
   "execution_count": 8,
   "metadata": {},
   "outputs": [
    {
     "name": "stderr",
     "output_type": "stream",
     "text": [
      "/Users/chandinijain/Library/Python/2.7/lib/python/site-packages/ipykernel_launcher.py:8: SettingWithCopyWarning: \n",
      "A value is trying to be set on a copy of a slice from a DataFrame\n",
      "\n",
      "See the caveats in the documentation: http://pandas.pydata.org/pandas-docs/stable/indexing.html#indexing-view-versus-copy\n",
      "  \n"
     ]
    }
   ],
   "source": [
    "listf = ['F3', 'F4', 'F7', 'F12', 'F13']\n",
    "feature_dict ={}\n",
    "for feature in listf:    \n",
    "    fs = idx_data[feature].unique()\n",
    "    f_dict = {}\n",
    "    count = 0\n",
    "    for f in fs:\n",
    "        idx_data[feature][idx_data[feature]==f] = count\n",
    "        f_dict[f] = count\n",
    "        count = count+1\n",
    "    feature_dict[feature] = f_dict"
   ]
  },
  {
   "cell_type": "markdown",
   "metadata": {},
   "source": [
    "**Step 2. Type 1: Create X and Y, find correlation between different Quality Features and TRR**"
   ]
  },
  {
   "cell_type": "code",
   "execution_count": 9,
   "metadata": {},
   "outputs": [],
   "source": [
    "X = idx_data.copy()\n",
    "\n",
    "X['NAs'] = X.isnull().sum(axis=1)\n",
    "X = X.replace([np.inf, -np.inf], np.nan)\n",
    "X.fillna(-50, inplace=True)\n",
    "X['Timestamp'] = X.index\n",
    "X.set_index(X.index+'-'+X['Identifier'], inplace=True)\n",
    "# del X['AssetGroup']\n",
    "# del X['Identifier']\n",
    "# del X['F2']"
   ]
  },
  {
   "cell_type": "code",
   "execution_count": 10,
   "metadata": {},
   "outputs": [],
   "source": [
    "Y = idx_data_TRR.copy()\n",
    "Y_shifted = Y.copy()\n",
    "\n",
    "z = (pd.to_datetime(Y.index) + pd.DateOffset(months=-1)).to_period('M').to_timestamp('M')\n",
    "Y_shifted.set_index(pd.Series(z.format()), inplace=True)\n",
    "Y_shifted['Timestamp'] = Y_shifted.index\n",
    "Y_shifted.set_index(Y_shifted.index+'-'+Y_shifted['Identifier'], inplace=True)"
   ]
  },
  {
   "cell_type": "markdown",
   "metadata": {},
   "source": [
    "We have shown a few ways of looking at correlation and identifying which Quality features are important. Feel free to innovate here. You might also find a combination of Quality features works better than any one singal feature"
   ]
  },
  {
   "cell_type": "code",
   "execution_count": 12,
   "metadata": {},
   "outputs": [
    {
     "name": "stdout",
     "output_type": "stream",
     "text": [
      "           Q1       TRR\n",
      "Q1   1.000000 -0.008695\n",
      "TRR -0.008695  1.000000\n",
      "PointbiserialrResult(correlation=0.0027527891479208876, pvalue=0.38349325889512265)\n",
      "KendalltauResult(correlation=-0.008695314921208308, pvalue=0.00010676406963573791)\n"
     ]
    },
    {
     "data": {
      "image/png": "[encoded data removed]",
      "text/plain": [
       "<matplotlib.figure.Figure at 0x1080c5dd0>"
      ]
     },
     "metadata": {},
     "output_type": "display_data"
    },
    {
     "name": "stdout",
     "output_type": "stream",
     "text": [
      "           Q2       TRR\n",
      "Q2   1.000000 -0.004335\n",
      "TRR -0.004335  1.000000\n",
      "PointbiserialrResult(correlation=0.0003016633557224364, pvalue=0.923917373800854)\n",
      "KendalltauResult(correlation=-0.004334907253020449, pvalue=0.07673695148777131)\n"
     ]
    },
    {
     "data": {
      "image/png": "[encoded data removed]",
      "text/plain": [
       "<matplotlib.figure.Figure at 0x113344690>"
      ]
     },
     "metadata": {},
     "output_type": "display_data"
    },
    {
     "name": "stdout",
     "output_type": "stream",
     "text": [
      "           Q3       TRR\n",
      "Q3   1.000000 -0.014816\n",
      "TRR -0.014816  1.000000\n",
      "PointbiserialrResult(correlation=0.006030128500498521, pvalue=0.05625800761647412)\n",
      "KendalltauResult(correlation=-0.014815955219890483, pvalue=2.37312304404191e-10)\n"
     ]
    },
    {
     "data": {
      "image/png": "[encoded data removed]",
      "text/plain": [
       "<matplotlib.figure.Figure at 0x11562e590>"
      ]
     },
     "metadata": {},
     "output_type": "display_data"
    },
    {
     "name": "stdout",
     "output_type": "stream",
     "text": [
      "          Q4      TRR\n",
      "Q4   1.00000 -0.01079\n",
      "TRR -0.01079  1.00000\n",
      "PointbiserialrResult(correlation=0.003169236625173372, pvalue=0.3157077115778915)\n",
      "KendalltauResult(correlation=-0.01079011505147175, pvalue=1.1399507475953685e-05)\n"
     ]
    },
    {
     "data": {
      "image/png": "[encoded data removed]",
      "text/plain": [
       "<matplotlib.figure.Figure at 0x11576ddd0>"
      ]
     },
     "metadata": {},
     "output_type": "display_data"
    },
    {
     "name": "stdout",
     "output_type": "stream",
     "text": [
      "           Q5       TRR\n",
      "Q5   1.000000  0.015005\n",
      "TRR  0.015005  1.000000\n",
      "PointbiserialrResult(correlation=0.002673592218621988, pvalue=0.39732648027656814)\n",
      "KendalltauResult(correlation=0.015005020466598342, pvalue=2.4955720962960198e-11)\n"
     ]
    },
    {
     "data": {
      "image/png": "[encoded data removed]",
      "text/plain": [
       "<matplotlib.figure.Figure at 0x1190264d0>"
      ]
     },
     "metadata": {},
     "output_type": "display_data"
    },
    {
     "name": "stdout",
     "output_type": "stream",
     "text": [
      "          Q6      TRR\n",
      "Q6   1.00000 -0.02758\n",
      "TRR -0.02758  1.00000\n",
      "PointbiserialrResult(correlation=-0.00015266730481974588, pvalue=0.9614521939026381)\n",
      "KendalltauResult(correlation=-0.02757973513083577, pvalue=3.368126762377064e-33)\n"
     ]
    },
    {
     "data": {
      "image/png": "[encoded data removed]",
      "text/plain": [
       "<matplotlib.figure.Figure at 0x1190399d0>"
      ]
     },
     "metadata": {},
     "output_type": "display_data"
    },
    {
     "name": "stdout",
     "output_type": "stream",
     "text": [
      "           Q7       TRR\n",
      "Q7   1.000000  0.009011\n",
      "TRR  0.009011  1.000000\n",
      "PointbiserialrResult(correlation=0.0036609408790607197, pvalue=0.24646341831416516)\n",
      "KendalltauResult(correlation=0.009010820629037734, pvalue=0.00022340911013409034)\n"
     ]
    },
    {
     "data": {
      "image/png": "[encoded data removed]",
      "text/plain": [
       "<matplotlib.figure.Figure at 0x115617710>"
      ]
     },
     "metadata": {},
     "output_type": "display_data"
    },
    {
     "name": "stdout",
     "output_type": "stream",
     "text": [
      "           Q8       TRR\n",
      "Q8   1.000000 -0.011024\n",
      "TRR -0.011024  1.000000\n",
      "PointbiserialrResult(correlation=0.0014478378125429672, pvalue=0.6466968207870314)\n",
      "KendalltauResult(correlation=-0.011024036236065807, pvalue=1.2922326778605414e-06)\n"
     ]
    },
    {
     "data": {
      "image/png": "[encoded data removed]",
      "text/plain": [
       "<matplotlib.figure.Figure at 0x1122ebe10>"
      ]
     },
     "metadata": {},
     "output_type": "display_data"
    },
    {
     "name": "stdout",
     "output_type": "stream",
     "text": [
      "           Q9       TRR\n",
      "Q9   1.000000 -0.003567\n",
      "TRR -0.003567  1.000000\n",
      "PointbiserialrResult(correlation=0.001304198989420714, pvalue=0.6796925748612721)\n",
      "KendalltauResult(correlation=-0.003566958796841274, pvalue=0.12861420475015037)\n"
     ]
    },
    {
     "data": {
      "image/png": "[encoded data removed]",
      "text/plain": [
       "<matplotlib.figure.Figure at 0x11576e310>"
      ]
     },
     "metadata": {},
     "output_type": "display_data"
    },
    {
     "name": "stdout",
     "output_type": "stream",
     "text": [
      "          Q10       TRR\n",
      "Q10  1.000000 -0.003742\n",
      "TRR -0.003742  1.000000\n",
      "PointbiserialrResult(correlation=0.003101417824940488, pvalue=0.3261750943642888)\n",
      "KendalltauResult(correlation=-0.0037424939749724543, pvalue=0.13090601615096725)\n"
     ]
    },
    {
     "data": {
      "image/png": "[encoded data removed]",
      "text/plain": [
       "<matplotlib.figure.Figure at 0x11287cb10>"
      ]
     },
     "metadata": {},
     "output_type": "display_data"
    },
    {
     "name": "stdout",
     "output_type": "stream",
     "text": [
      "          Q11       TRR\n",
      "Q11  1.000000 -0.011831\n",
      "TRR -0.011831  1.000000\n",
      "PointbiserialrResult(correlation=0.008265412468510043, pvalue=0.008878334721771583)\n",
      "KendalltauResult(correlation=-0.011831073511613652, pvalue=5.37694013840849e-07)\n"
     ]
    },
    {
     "data": {
      "image/png": "[encoded data removed]",
      "text/plain": [
       "<matplotlib.figure.Figure at 0x10f0cc8d0>"
      ]
     },
     "metadata": {},
     "output_type": "display_data"
    },
    {
     "name": "stdout",
     "output_type": "stream",
     "text": [
      "          Q12       TRR\n",
      "Q12  1.000000  0.011697\n",
      "TRR  0.011697  1.000000\n",
      "PointbiserialrResult(correlation=0.0033995662818112585, pvalue=0.28182186866222314)\n",
      "KendalltauResult(correlation=0.011697067757710247, pvalue=4.775527046468461e-07)\n"
     ]
    },
    {
     "data": {
      "image/png": "[encoded data removed]",
      "text/plain": [
       "<matplotlib.figure.Figure at 0x10ec4e290>"
      ]
     },
     "metadata": {},
     "output_type": "display_data"
    }
   ],
   "source": [
    "from matplotlib import pyplot as plt\n",
    "import scipy\n",
    "for i in range(12):\n",
    "    temp_df = pd.DataFrame(X['Q%s'%(i+1)], index = X.index, columns=['Q%s'%(i+1), 'TRR'])\n",
    "    temp_df['TRR'] = X['TRR']\n",
    "    print(temp_df.corr(method='kendall'))\n",
    "    print(scipy.stats.pointbiserialr(temp_df['Q%s'%(i+1)], temp_df['TRR']))\n",
    "    print(scipy.stats.kendalltau(temp_df['Q%s'%(i+1)], temp_df['TRR']))\n",
    "#     print(np.corrcoef(temp_df['Q%s'%(i+1)], temp_df['TRR']))\n",
    "    plt.plot(temp_df['Q%s'%(i+1)], temp_df['TRR'], '.b')\n",
    "    plt.show()"
   ]
  },
  {
   "cell_type": "markdown",
   "metadata": {},
   "source": [
    "#### Step 2. Type 2: Break end period TRR into three buckets: over perform index, under perform index, +ve, underperform index -ve\n",
    "Create a target variable 'Y' and assign the following values:\n",
    "over perform index: 1\n",
    "under perform index but +ve return: 0\n",
    "underperform index and -ve return: -1"
   ]
  },
  {
   "cell_type": "code",
   "execution_count": 13,
   "metadata": {},
   "outputs": [],
   "source": [
    "dates = idx_data.index.unique()\n",
    "idx_returns = pd.Series(0.0,index=dates)\n",
    "counter=0\n",
    "new_idx_data = pd.DataFrame(columns=idx_data.columns)\n",
    "while counter < len(dates):\n",
    "    date = dates[counter]\n",
    "    date_data = idx_data[idx_data.index == date]\n",
    "    \n",
    "    ## get all the identifiers for a date\n",
    "    \n",
    "    date_data.set_index( date_data['Identifier'], inplace=True)\n",
    "    date_data = date_data[~date_data.index.duplicated()]\n",
    "    \n",
    "    wi = pd.Series(date_data['wI']/100, index = date_data['Identifier'])\n",
    "    ri = pd.Series(date_data['TRR'], index = date_data['Identifier'])\n",
    "    idx_returns[date]=np.dot(wi, ri)\n",
    "    \n",
    "    date_data.loc[date_data['TRR']<idx_returns[date], 'Y'] = 0\n",
    "    date_data.loc[date_data['TRR']<0, 'Y'] = -1\n",
    "    date_data.loc[date_data['TRR']>=idx_returns[date], 'Y'] = 1\n",
    "    new_idx_data = new_idx_data.append(date_data)\n",
    "    counter = counter+1\n"
   ]
  },
  {
   "cell_type": "markdown",
   "metadata": {},
   "source": [
    "Now find correlation between different Quality Features and Y"
   ]
  },
  {
   "cell_type": "code",
   "execution_count": 14,
   "metadata": {},
   "outputs": [],
   "source": [
    "X = new_idx_data.copy()\n",
    "\n",
    "X['NAs'] = X.isnull().sum(axis=1)\n",
    "X = X.replace([np.inf, -np.inf], np.nan)\n",
    "X.fillna(-50, inplace=True)\n",
    "X['Timestamp'] = X.index\n",
    "X.set_index(X.index+'-'+X['Identifier'], inplace=True)"
   ]
  },
  {
   "cell_type": "markdown",
   "metadata": {},
   "source": [
    "I'm calculating a few different types of correlation, some more suited to discrete variables. I'm also printing the count of each value of Y in different Q bins"
   ]
  },
  {
   "cell_type": "code",
   "execution_count": 15,
   "metadata": {},
   "outputs": [
    {
     "name": "stdout",
     "output_type": "stream",
     "text": [
      "Q1     Y   \n",
      "-50.0  -1.0     6799\n",
      "        0.0     6238\n",
      "        1.0    14009\n",
      " 0.0   -1.0       64\n",
      "        0.0       37\n",
      "        1.0      134\n",
      " 1.0   -1.0      372\n",
      "        0.0      217\n",
      "        1.0      541\n",
      " 2.0   -1.0      519\n",
      "        0.0      308\n",
      "        1.0     1024\n",
      " 3.0   -1.0      994\n",
      "        0.0      731\n",
      "        1.0     1751\n",
      " 4.0   -1.0     1516\n",
      "        0.0     1197\n",
      "        1.0     3147\n",
      " 5.0   -1.0     2558\n",
      "        0.0     2157\n",
      "        1.0     5133\n",
      " 6.0   -1.0     3304\n",
      "        0.0     3172\n",
      "        1.0     6753\n",
      " 7.0   -1.0     3256\n",
      "        0.0     3123\n",
      "        1.0     6931\n",
      " 8.0   -1.0     2777\n",
      "        0.0     2890\n",
      "        1.0     6036\n",
      " 9.0   -1.0     1725\n",
      "        0.0     1799\n",
      "        1.0     4013\n",
      " 10.0  -1.0      870\n",
      "        0.0      991\n",
      "        1.0     2096\n",
      " 11.0  -1.0      224\n",
      "        0.0      230\n",
      "        1.0      589\n",
      "dtype: int64\n",
      "         Q1        Y\n",
      "Q1  1.00000  0.01034\n",
      "Y   0.01034  1.00000\n",
      "PointbiserialrResult(correlation=0.004835028904735292, pvalue=0.12584865496135775)\n",
      "KendalltauResult(correlation=0.010339593006775501, pvalue=7.498683580653366e-05)\n"
     ]
    },
    {
     "data": {
      "image/png": "[encoded data removed]",
      "text/plain": [
       "<matplotlib.figure.Figure at 0x10ec4e350>"
      ]
     },
     "metadata": {},
     "output_type": "display_data"
    },
    {
     "name": "stdout",
     "output_type": "stream",
     "text": [
      "Q2     Y   \n",
      "-50.0  -1.0     6386\n",
      "        0.0     5810\n",
      "        1.0    13098\n",
      " 0.0   -1.0    15280\n",
      "        0.0    14226\n",
      "        1.0    32148\n",
      " 1.0   -1.0      895\n",
      "        0.0      856\n",
      "        1.0     1967\n",
      " 2.0   -1.0      198\n",
      "        0.0      217\n",
      "        1.0      373\n",
      " 3.0   -1.0      402\n",
      "        0.0      351\n",
      "        1.0      808\n",
      " 4.0   -1.0      320\n",
      "        0.0      263\n",
      "        1.0      731\n",
      " 5.0   -1.0      108\n",
      "        0.0       80\n",
      "        1.0      221\n",
      " 6.0   -1.0       95\n",
      "        0.0      124\n",
      "        1.0      234\n",
      " 7.0   -1.0      248\n",
      "        0.0      198\n",
      "        1.0      450\n",
      " 8.0   -1.0      402\n",
      "        0.0      364\n",
      "        1.0      768\n",
      " 9.0   -1.0      119\n",
      "        0.0       79\n",
      "        1.0      220\n",
      " 10.0  -1.0      112\n",
      "        0.0       94\n",
      "        1.0      228\n",
      " 11.0  -1.0      413\n",
      "        0.0      428\n",
      "        1.0      911\n",
      "dtype: int64\n",
      "          Q2         Y\n",
      "Q2  1.000000  0.002471\n",
      "Y   0.002471  1.000000\n",
      "PointbiserialrResult(correlation=0.003802370343786636, pvalue=0.22868375610256703)\n",
      "KendalltauResult(correlation=0.002471495559797366, pvalue=0.3857807341699746)\n"
     ]
    },
    {
     "data": {
      "image/png": "[encoded data removed]",
      "text/plain": [
       "<matplotlib.figure.Figure at 0x10ef93550>"
      ]
     },
     "metadata": {},
     "output_type": "display_data"
    },
    {
     "name": "stdout",
     "output_type": "stream",
     "text": [
      "Q3  Y   \n",
      "-4  -1.0     6386\n",
      "     0.0     5810\n",
      "     1.0    13098\n",
      "-3  -1.0     1497\n",
      "     0.0     1367\n",
      "     1.0     3032\n",
      "-2  -1.0      858\n",
      "     0.0      815\n",
      "     1.0     1911\n",
      "-1  -1.0     3048\n",
      "     0.0     1963\n",
      "     1.0     5682\n",
      " 0  -1.0     9345\n",
      "     0.0     9025\n",
      "     1.0    19486\n",
      " 1  -1.0     3844\n",
      "     0.0     4110\n",
      "     1.0     8948\n",
      "dtype: int64\n",
      "          Q3         Y\n",
      "Q3  1.000000  0.008651\n",
      "Y   0.008651  1.000000\n",
      "PointbiserialrResult(correlation=0.008907031096731438, pvalue=0.004804786094771148)\n",
      "KendalltauResult(correlation=0.008650893202363931, pvalue=0.0014772233871811007)\n"
     ]
    },
    {
     "data": {
      "image/png": "[encoded data removed]",
      "text/plain": [
       "<matplotlib.figure.Figure at 0x11338c5d0>"
      ]
     },
     "metadata": {},
     "output_type": "display_data"
    },
    {
     "name": "stdout",
     "output_type": "stream",
     "text": [
      "Q4  Y   \n",
      "-4  -1.0     6386\n",
      "     0.0     5810\n",
      "     1.0    13098\n",
      " 0  -1.0     5229\n",
      "     0.0     3976\n",
      "     1.0    10185\n",
      " 1  -1.0    13363\n",
      "     0.0    13304\n",
      "     1.0    28874\n",
      "dtype: int64\n",
      "          Q4         Y\n",
      "Q4  1.000000  0.006428\n",
      "Y   0.006428  1.000000\n",
      "PointbiserialrResult(correlation=0.005929789770671072, pvalue=0.06048169562039384)\n",
      "KendalltauResult(correlation=0.0064276260658498495, pvalue=0.024642782833813753)\n"
     ]
    },
    {
     "data": {
      "image/png": "[encoded data removed]",
      "text/plain": [
       "<matplotlib.figure.Figure at 0x113395090>"
      ]
     },
     "metadata": {},
     "output_type": "display_data"
    },
    {
     "name": "stdout",
     "output_type": "stream",
     "text": [
      "Q5     Y   \n",
      "-50.0  -1.0     6386\n",
      "        0.0     5810\n",
      "        1.0    13098\n",
      " 0.0   -1.0      343\n",
      "        0.0      160\n",
      "        1.0      560\n",
      " 1.0   -1.0     1001\n",
      "        0.0      504\n",
      "        1.0     1627\n",
      " 2.0   -1.0     1174\n",
      "        0.0      679\n",
      "        1.0     1944\n",
      " 3.0   -1.0     1788\n",
      "        0.0     1517\n",
      "        1.0     3751\n",
      " 4.0   -1.0     3473\n",
      "        0.0     3036\n",
      "        1.0     7429\n",
      " 5.0   -1.0     4181\n",
      "        0.0     4088\n",
      "        1.0     9179\n",
      " 6.0   -1.0     2980\n",
      "        0.0     3303\n",
      "        1.0     6394\n",
      " 7.0   -1.0     1887\n",
      "        0.0     1936\n",
      "        1.0     3955\n",
      " 8.0   -1.0     1287\n",
      "        0.0     1396\n",
      "        1.0     2927\n",
      " 9.0   -1.0      440\n",
      "        0.0      602\n",
      "        1.0     1176\n",
      " 10.0  -1.0       38\n",
      "        0.0       59\n",
      "        1.0      117\n",
      "dtype: int64\n",
      "          Q5         Y\n",
      "Q5  1.000000  0.007146\n",
      "Y   0.007146  1.000000\n",
      "PointbiserialrResult(correlation=0.005367271741369326, pvalue=0.08928531779310661)\n",
      "KendalltauResult(correlation=0.007145927713282361, pvalue=0.006303374227912065)\n"
     ]
    },
    {
     "data": {
      "image/png": "[encoded data removed]",
      "text/plain": [
       "<matplotlib.figure.Figure at 0x1103e4490>"
      ]
     },
     "metadata": {},
     "output_type": "display_data"
    },
    {
     "name": "stdout",
     "output_type": "stream",
     "text": [
      "Q6     Y   \n",
      "-50.0  -1.0     6386\n",
      "        0.0     5810\n",
      "        1.0    13098\n",
      " 0.0   -1.0     6986\n",
      "        0.0     7431\n",
      "        1.0    15552\n",
      " 1.0   -1.0     4686\n",
      "        0.0     4633\n",
      "        1.0    10065\n",
      " 2.0   -1.0      953\n",
      "        0.0      902\n",
      "        1.0     2142\n",
      " 3.0   -1.0      427\n",
      "        0.0      597\n",
      "        1.0      869\n",
      " 4.0   -1.0     1767\n",
      "        0.0     1080\n",
      "        1.0     3452\n",
      " 5.0   -1.0     2071\n",
      "        0.0     1211\n",
      "        1.0     3666\n",
      " 6.0   -1.0      554\n",
      "        0.0      536\n",
      "        1.0     1146\n",
      " 7.0   -1.0      572\n",
      "        0.0      483\n",
      "        1.0     1074\n",
      " 8.0   -1.0      153\n",
      "        0.0      100\n",
      "        1.0      291\n",
      " 9.0   -1.0      300\n",
      "        0.0      234\n",
      "        1.0      595\n",
      " 10.0  -1.0      123\n",
      "        0.0       73\n",
      "        1.0      207\n",
      "dtype: int64\n",
      "          Q6         Y\n",
      "Q6  1.000000 -0.003049\n",
      "Y  -0.003049  1.000000\n",
      "PointbiserialrResult(correlation=0.002589497189013045, pvalue=0.41233995330055084)\n",
      "KendalltauResult(correlation=-0.0030488894539285345, pvalue=0.25405020791538724)\n"
     ]
    },
    {
     "data": {
      "image/png": "[encoded data removed]",
      "text/plain": [
       "<matplotlib.figure.Figure at 0x10f0da2d0>"
      ]
     },
     "metadata": {},
     "output_type": "display_data"
    },
    {
     "name": "stdout",
     "output_type": "stream",
     "text": [
      "Q7  Y   \n",
      "-4  -1.0     6386\n",
      "     0.0     5810\n",
      "     1.0    13098\n",
      " 0  -1.0     7779\n",
      "     0.0     5896\n",
      "     1.0    15311\n",
      " 1  -1.0    10813\n",
      "     0.0    11384\n",
      "     1.0    23748\n",
      "dtype: int64\n",
      "          Q7         Y\n",
      "Q7  1.000000  0.005877\n",
      "Y   0.005877  1.000000\n",
      "PointbiserialrResult(correlation=0.006217378767400093, pvalue=0.04903204662891398)\n",
      "KendalltauResult(correlation=0.00587738443922451, pvalue=0.038534317858428306)\n"
     ]
    },
    {
     "data": {
      "image/png": "[encoded data removed]",
      "text/plain": [
       "<matplotlib.figure.Figure at 0x10b9362d0>"
      ]
     },
     "metadata": {},
     "output_type": "display_data"
    },
    {
     "name": "stdout",
     "output_type": "stream",
     "text": [
      "Q8     Y   \n",
      "-50.0  -1.0     6386\n",
      "        0.0     5810\n",
      "        1.0    13098\n",
      " 0.0   -1.0     2899\n",
      "        0.0     2546\n",
      "        1.0     6144\n",
      " 1.0   -1.0     5006\n",
      "        0.0     4467\n",
      "        1.0    10370\n",
      " 2.0   -1.0     4816\n",
      "        0.0     4586\n",
      "        1.0    10040\n",
      " 3.0   -1.0     2667\n",
      "        0.0     2433\n",
      "        1.0     5288\n",
      " 4.0   -1.0     2139\n",
      "        0.0     1995\n",
      "        1.0     4613\n",
      " 5.0   -1.0      978\n",
      "        0.0     1148\n",
      "        1.0     2369\n",
      " 6.0   -1.0       87\n",
      "        0.0      105\n",
      "        1.0      235\n",
      "dtype: int64\n",
      "          Q8         Y\n",
      "Q8  1.000000  0.002816\n",
      "Y   0.002816  1.000000\n",
      "PointbiserialrResult(correlation=0.004292941822946548, pvalue=0.1741265955820151)\n",
      "KendalltauResult(correlation=0.0028159211857779645, pvalue=0.28788771698702253)\n"
     ]
    },
    {
     "data": {
      "image/png": "[encoded data removed]",
      "text/plain": [
       "<matplotlib.figure.Figure at 0x10f0e1c90>"
      ]
     },
     "metadata": {},
     "output_type": "display_data"
    },
    {
     "name": "stdout",
     "output_type": "stream",
     "text": [
      "Q9     Y   \n",
      "-50.0  -1.0     6386\n",
      "        0.0     5810\n",
      "        1.0    13098\n",
      " 0.0   -1.0     8590\n",
      "        0.0     8270\n",
      "        1.0    18622\n",
      " 1.0   -1.0     6448\n",
      "        0.0     5728\n",
      "        1.0    12804\n",
      " 2.0   -1.0      647\n",
      "        0.0      621\n",
      "        1.0     1412\n",
      " 3.0   -1.0      167\n",
      "        0.0      264\n",
      "        1.0      447\n",
      " 4.0   -1.0      618\n",
      "        0.0      616\n",
      "        1.0     1416\n",
      " 5.0   -1.0      736\n",
      "        0.0      560\n",
      "        1.0     1631\n",
      " 6.0   -1.0     1386\n",
      "        0.0     1221\n",
      "        1.0     2727\n",
      "dtype: int64\n",
      "          Q9         Y\n",
      "Q9  1.000000 -0.000258\n",
      "Y  -0.000258  1.000000\n",
      "PointbiserialrResult(correlation=0.003934947720340999, pvalue=0.21286423080821004)\n",
      "KendalltauResult(correlation=-0.0002575507657834666, pvalue=0.9248696126726407)\n"
     ]
    },
    {
     "data": {
      "image/png": "[encoded data removed]",
      "text/plain": [
       "<matplotlib.figure.Figure at 0x116b0c450>"
      ]
     },
     "metadata": {},
     "output_type": "display_data"
    },
    {
     "name": "stdout",
     "output_type": "stream",
     "text": [
      "Q10  Y   \n",
      "-4   -1.0     6386\n",
      "      0.0     5810\n",
      "      1.0    13098\n",
      " 0   -1.0    15388\n",
      "      0.0    14032\n",
      "      1.0    31842\n",
      " 1   -1.0     3204\n",
      "      0.0     3248\n",
      "      1.0     7217\n",
      "dtype: int64\n",
      "          Q10         Y\n",
      "Q10  1.000000  0.007146\n",
      "Y    0.007146  1.000000\n",
      "PointbiserialrResult(correlation=0.005795310897166705, pvalue=0.06655144200328762)\n",
      "KendalltauResult(correlation=0.007145792605873414, pvalue=0.013180975613905507)\n"
     ]
    },
    {
     "data": {
      "image/png": "[encoded data removed]",
      "text/plain": [
       "<matplotlib.figure.Figure at 0x10bf49390>"
      ]
     },
     "metadata": {},
     "output_type": "display_data"
    },
    {
     "name": "stdout",
     "output_type": "stream",
     "text": [
      "Q11  Y   \n",
      "-4   -1.0     6386\n",
      "      0.0     5810\n",
      "      1.0    13098\n",
      "-3   -1.0     1497\n",
      "      0.0     1367\n",
      "      1.0     3032\n",
      "-1   -1.0     3048\n",
      "      0.0     1963\n",
      "      1.0     5682\n",
      " 0   -1.0    10203\n",
      "      0.0     9840\n",
      "      1.0    21397\n",
      " 1   -1.0     3844\n",
      "      0.0     4110\n",
      "      1.0     8948\n",
      "dtype: int64\n",
      "          Q11         Y\n",
      "Q11  1.000000  0.010042\n",
      "Y    0.010042  1.000000\n",
      "PointbiserialrResult(correlation=0.009903727801678808, pvalue=0.0017162412218094134)\n",
      "KendalltauResult(correlation=0.010042461977862007, pvalue=0.0002555174705541117)\n"
     ]
    },
    {
     "data": {
      "image/png": "[encoded data removed]",
      "text/plain": [
       "<matplotlib.figure.Figure at 0x115758f10>"
      ]
     },
     "metadata": {},
     "output_type": "display_data"
    },
    {
     "name": "stdout",
     "output_type": "stream",
     "text": [
      "Q12   Y   \n",
      "-100  -1.0     1035\n",
      "       0.0     1345\n",
      "       1.0     1678\n",
      "-99   -1.0      866\n",
      "       0.0     1341\n",
      "       1.0     2102\n",
      "-4    -1.0     6386\n",
      "       0.0     5810\n",
      "       1.0    13098\n",
      "-3    -1.0     1497\n",
      "       0.0     1367\n",
      "       1.0     3032\n",
      "-1    -1.0     3048\n",
      "       0.0     1963\n",
      "       1.0     5682\n",
      " 0    -1.0     9168\n",
      "       0.0     8495\n",
      "       1.0    19719\n",
      " 1    -1.0     2978\n",
      "       0.0     2769\n",
      "       1.0     6846\n",
      "dtype: int64\n",
      "          Q12         Y\n",
      "Q12  1.000000  0.022129\n",
      "Y    0.022129  1.000000\n",
      "PointbiserialrResult(correlation=0.017816172830819647, pvalue=1.693794095830175e-08)\n",
      "KendalltauResult(correlation=0.02212890545500404, pvalue=2.6799617834794325e-16)\n"
     ]
    },
    {
     "data": {
      "image/png": "[encoded data removed]",
      "text/plain": [
       "<matplotlib.figure.Figure at 0x10cd23990>"
      ]
     },
     "metadata": {},
     "output_type": "display_data"
    }
   ],
   "source": [
    "\n",
    "for i in range(12):\n",
    "    temp_df = pd.DataFrame(X['Q%s'%(i+1)], index = X.index, columns=['Q%s'%(i+1), 'Y'])\n",
    "    temp_df['Y'] = X['Y']\n",
    "    print(temp_df.groupby(['Q%s'%(i+1), 'Y']).size())\n",
    "    print(temp_df.corr(method='kendall'))\n",
    "    print(scipy.stats.pointbiserialr(temp_df['Q%s'%(i+1)], temp_df['Y']))\n",
    "    print(scipy.stats.kendalltau(temp_df['Q%s'%(i+1)], temp_df['Y']))\n",
    "#     print(np.corrcoef(temp_df['Q%s'%(i+1)], temp_df['TRR']))\n",
    "    plt.plot(temp_df['Q%s'%(i+1)], temp_df['Y'], '.b')\n",
    "    plt.show()"
   ]
  },
  {
   "cell_type": "markdown",
   "metadata": {},
   "source": [
    "#### Step 3. Optional: Train a model which uses the identified features to predict which bucket the performance will be in. Train a few models to check which one is the best"
   ]
  },
  {
   "cell_type": "code",
   "execution_count": 16,
   "metadata": {},
   "outputs": [],
   "source": [
    "### Here I assume Q3,Q4,Q7,Q10,Q11,Q12 are important\n",
    "\n",
    "newX = pd.DataFrame(index = X.index, columns=[])\n",
    "cnt=0\n",
    "for i in [3,4,7,10,11,12]:\n",
    "    newX['Q%s'%(cnt)] = X['Q%s'%(i)]\n",
    "    cnt=cnt+1\n",
    "y = X['Y']\n",
    "# newX['NAs'] = newX.isnull().sum(axis=1)\n",
    "# newX"
   ]
  },
  {
   "cell_type": "code",
   "execution_count": 17,
   "metadata": {},
   "outputs": [],
   "source": [
    "from sklearn.metrics import confusion_matrix \n",
    "from sklearn.model_selection import train_test_split\n",
    "# dividing X, y into train and test data \n",
    "X_train, X_test, y_train, y_test = train_test_split(newX, y, random_state = 10) "
   ]
  },
  {
   "cell_type": "code",
   "execution_count": 18,
   "metadata": {},
   "outputs": [
    {
     "name": "stdout",
     "output_type": "stream",
     "text": [
      "0.5179790078620745\n"
     ]
    },
    {
     "data": {
      "text/plain": [
       "array([[    0,    28,  6285],\n",
       "       [    0,    57,  5716],\n",
       "       [    1,    48, 12922]])"
      ]
     },
     "execution_count": 18,
     "metadata": {},
     "output_type": "execute_result"
    }
   ],
   "source": [
    " # training a DescisionTreeClassifier \n",
    "from sklearn.tree import DecisionTreeClassifier \n",
    "dtree_model = DecisionTreeClassifier(max_depth = 10).fit(X_train, y_train) \n",
    "dtree_predictions = dtree_model.predict(X_test) \n",
    "\n",
    "# accuracy on X_test \n",
    "accuracy = dtree_model.score(X_test, y_test) \n",
    "print accuracy\n",
    "\n",
    "# creating a confusion matrix \n",
    "cm = confusion_matrix(y_test, dtree_predictions)\n",
    "cm"
   ]
  },
  {
   "cell_type": "code",
   "execution_count": 19,
   "metadata": {},
   "outputs": [
    {
     "name": "stdout",
     "output_type": "stream",
     "text": [
      "0.5041704912798819\n"
     ]
    },
    {
     "data": {
      "text/plain": [
       "array([[  378,    90,  5845],\n",
       "       [  436,   121,  5216],\n",
       "       [  680,   157, 12134]])"
      ]
     },
     "execution_count": 19,
     "metadata": {},
     "output_type": "execute_result"
    }
   ],
   "source": [
    "# dividing X, y into train and test data \n",
    "X_train, X_test, y_train, y_test = train_test_split(newX, y, random_state = 10) \n",
    "  \n",
    "# training a KNN classifier \n",
    "from sklearn.neighbors import KNeighborsClassifier \n",
    "# from sklearn.neighbors import RadiusNeighborsClassifier\n",
    "# neigh = RadiusNeighborsClassifier(radius=1.0).fit(X_train, y_train)\n",
    "knn = KNeighborsClassifier(n_neighbors = 10, weights='distance').fit(X_train, y_train) \n",
    "  \n",
    "# accuracy on X_test \n",
    "accuracy = knn.score(X_test, y_test) \n",
    "# accuracy = neigh.score(X_test, y_test) \n",
    "print accuracy \n",
    "  \n",
    "# creating a confusion matrix \n",
    "knn_predictions = knn.predict(X_test)  \n",
    "cm = confusion_matrix(y_test, knn_predictions)\n",
    "# neigh_predictions = neigh.predict(X_test)  \n",
    "# cm = confusion_matrix(y_test, neigh_predictions)\n",
    "cm"
   ]
  },
  {
   "cell_type": "code",
   "execution_count": 29,
   "metadata": {},
   "outputs": [
    {
     "name": "stderr",
     "output_type": "stream",
     "text": [
      "/Library/Python/2.7/site-packages/sklearn/cross_decomposition/pls_.py:287: UserWarning: Y residual constant at iteration 1\n",
      "  warnings.warn('Y residual constant at iteration %s' % k)\n"
     ]
    },
    {
     "name": "stdout",
     "output_type": "stream",
     "text": [
      "0.49251706110069043\n"
     ]
    },
    {
     "data": {
      "text/plain": [
       "array([[  158,   391,  5764],\n",
       "       [  195,   390,  5188],\n",
       "       [  371,   807, 11793]])"
      ]
     },
     "execution_count": 29,
     "metadata": {},
     "output_type": "execute_result"
    }
   ],
   "source": [
    "### Perform PCA or CCA before training\n",
    "from sklearn.decomposition import PCA\n",
    "from sklearn.cross_decomposition import CCA\n",
    "\n",
    "transform = \"cca\"\n",
    "\n",
    "if transform == \"pca\":\n",
    "        tranformedX = PCA(n_components=2).fit_transform(newX)\n",
    "elif transform == \"cca\":\n",
    "        tranformedX = CCA(n_components=2).fit(newX, y).transform(newX)\n",
    "\n",
    "# dividing X, y into train and test data \n",
    "X_train, X_test, y_train, y_test = train_test_split(tranformedX, y, random_state = 10) \n",
    "\n",
    "knn = KNeighborsClassifier(n_neighbors = 10, weights='distance').fit(X_train, y_train) \n",
    "  \n",
    "# accuracy on X_test \n",
    "accuracy = knn.score(X_test, y_test) \n",
    "print accuracy \n",
    "  \n",
    "# creating a confusion matrix \n",
    "knn_predictions = knn.predict(X_test)  \n",
    "cm = confusion_matrix(y_test, knn_predictions)\n",
    "cm"
   ]
  },
  {
   "cell_type": "markdown",
   "metadata": {},
   "source": [
    "### Some other training methods"
   ]
  },
  {
   "cell_type": "code",
   "execution_count": 22,
   "metadata": {},
   "outputs": [],
   "source": [
    "# # training a oneVsRestclassifier after PCA or CCA\n",
    "# from sklearn.multiclass import OneVsRestClassifier\n",
    "# from sklearn.svm import SVC\n",
    "# from sklearn.decomposition import PCA\n",
    "# from sklearn.cross_decomposition import CCA\n",
    "\n",
    "# transform == \"pca\"\n",
    "\n",
    "# if transform == \"pca\":\n",
    "#         X = PCA(n_components=2).fit_transform(X)\n",
    "# elif transform == \"cca\":\n",
    "#         X = CCA(n_components=2).fit(X, y).transform(X)\n",
    "\n",
    "# classif = OneVsRestClassifier(SVC(kernel='linear'))\n",
    "# classif.fit(X, y)"
   ]
  },
  {
   "cell_type": "code",
   "execution_count": null,
   "metadata": {},
   "outputs": [],
   "source": [
    "# # dividing X, y into train and test data \n",
    "# X_train, X_test, y_train, y_test = train_test_split(X, y, random_state = 0) \n",
    "  \n",
    "# # training a linear SVM classifier \n",
    "# from sklearn.svm import SVC \n",
    "# svm_model_linear = SVC(kernel = 'linear', C = 1).fit(X_train, y_train) \n",
    "# svm_predictions = svm_model_linear.predict(X_test) \n",
    "  \n",
    "# # model accuracy for X_test   \n",
    "# accuracy = svm_model_linear.score(X_test, y_test) \n",
    "  \n",
    "# # creating a confusion matrix \n",
    "# cm = confusion_matrix(y_test, svm_predictions) \n",
    "# cm"
   ]
  },
  {
   "cell_type": "code",
   "execution_count": 23,
   "metadata": {},
   "outputs": [],
   "source": [
    "# # dividing X, y into train and test data \n",
    "# X_train, X_test, y_train, y_test = train_test_split(newX, y, random_state = 10) \n",
    "  \n",
    "# # training a Naive Bayes classifier \n",
    "# from sklearn.naive_bayes import GaussianNB \n",
    "# gnb = GaussianNB().fit(X_train, y_train) \n",
    "# gnb_predictions = gnb.predict(X_test) \n",
    "  \n",
    "# # accuracy on X_test \n",
    "# accuracy = gnb.score(X_test, y_test) \n",
    "# print accuracy \n",
    "  \n",
    "# # creating a confusion matrix \n",
    "# cm = confusion_matrix(y_test, gnb_predictions) \n",
    "# cm"
   ]
  },
  {
   "cell_type": "code",
   "execution_count": 24,
   "metadata": {},
   "outputs": [],
   "source": [
    "# ### Taking ensemble of all three\n",
    "\n",
    "# y_avg = (gnb_predictions+knn_predictions+dtree_predictions)/3\n",
    "# y_avg = [1 if x>0.5 else x for x in y_avg]\n",
    "# y_avg = [-1 if x<-0.5 else x for x in y_avg]\n",
    "# y_avg = [0 if (x>=-0.5)and(x<=0.5) else x for x in y_avg]\n",
    "# from sklearn.metrics import accuracy_score\n",
    "# print(accuracy_score(y_test, y_avg))\n",
    "# cm = confusion_matrix(y_test, y_avg) \n",
    "# cm\n"
   ]
  },
  {
   "cell_type": "markdown",
   "metadata": {},
   "source": [
    "#### Step 4. Define a new optimization objective function as either \n",
    "1. wt*predictedbucketValue - transaction costs (We want as much weight as possible to be assigned to highest bucket)\n",
    "OR\n",
    "2. wt*Qi - transaction costs (We want as much weight as possible to be assigned to best quality bond, where Qi is the identified quality with highest relation to TRR/Y)\n",
    "Train an optimizer to maximize this reward while meeting constraints"
   ]
  },
  {
   "cell_type": "code",
   "execution_count": 30,
   "metadata": {},
   "outputs": [],
   "source": [
    "#     ### In this sample case, I am using scipy.optimize \n",
    "from scipy.optimize import minimize\n",
    "# import cvxpy as cp"
   ]
  },
  {
   "cell_type": "code",
   "execution_count": 31,
   "metadata": {},
   "outputs": [],
   "source": [
    "## Here I define my objective function \n",
    "\n",
    "class CustomFeatures():\n",
    "    \n",
    "    def newFeature1(self, wt, wt_1, ri, k):\n",
    "    ################################################\n",
    "    ####   COPY FROM BELOW INTO TEMPLATE FILE   ####\n",
    "    ################################################\n",
    "        ri.fillna(0, inplace=True)\n",
    "        returns = np.dot(wt, ri)\n",
    "#         volatility = np.std(port_returns) #np.sqrt(np.dot(weights.T, np.dot(cov_annual, weights)))\n",
    "        weights = pd.Series(wt, index = ri.index)\n",
    "    \n",
    "        if (wt_1 is None):\n",
    "            phi = 0\n",
    "        else:\n",
    "            ix = weights.index | wt_1.index\n",
    "            tn = weights.reindex(ix) - wt_1.reindex(ix)\n",
    "            tn[tn.isnull()&tn.index.isin(weights.index)] = weights\n",
    "            tn[tn.isnull()&tn.index.isin(wt_1.index)] = -wt_1\n",
    "            phi = k*tn.abs().sum()\n",
    "        reward = -(returns - phi)\n",
    "        return reward"
   ]
  },
  {
   "cell_type": "markdown",
   "metadata": {},
   "source": [
    "** Note how I have simplified one of the constraints below. The constraint (wt*(1-Qt[Qt==1])).sum() = 0 basically mmeans only assign weights only where Qt==1. I set allowed bonds as allowed = Qt[Qt==1].index. This takes care of the constraint, and remove the constraint to make optimization easy**\n",
    "\n",
    "Other simplifications could be to only allow bonds where d == (wi*Dt).sum() +/- (delta + eps) or s = (wi*St).sum() +/- (chi + eps), eps =10%. i.e. only allow bonds that are a small fraction more than than the index to meet the delta and chi constraint\n",
    "\n",
    "Rest of the steps follow the same as problem 1"
   ]
  },
  {
   "cell_type": "code",
   "execution_count": 37,
   "metadata": {},
   "outputs": [],
   "source": [
    "def getWeights(identifiers, reward, wi, Dt, St, Qt, g, U, t, T, P, delta, chi, eta, df, trr, wt_1,**kwargs):\n",
    "    ################################################\n",
    "    ####   COPY FROM BELOW INTO TEMPLATE FILE   ####\n",
    "    ################################################\n",
    "    \n",
    "    ### Here I'm assuming Q11 is the most important Quality. Ideally this will be a mix\n",
    "    ri = df['Q11']\n",
    "    \n",
    "    div_constraint = np.maximum(g, 1/float(Qt.sum()))\n",
    "    \n",
    "    allowed = Qt[Qt==1].index   ###pre=process to assign weights only where Qt==1, this takes care of last constraint automatically\n",
    "    \n",
    "    bounds = ((t,div_constraint),) * len(allowed) #limits on weights\n",
    "    \n",
    "    cons = ({'type': 'eq', 'fun': lambda wt: 1.0 - np.sum(wt)},   ##sum of weights should be 1\n",
    "            {'type': 'ineq', 'args': (P, Qt,),'fun': lambda wt, P, Qt: np.count_nonzero(wt) - np.minimum(P, Qt.sum())}, ## minimum number of positions should be P\n",
    "            {'type': 'ineq', 'args': (delta, wi, Dt,),'fun': lambda wt, delta, wi, Dt: delta - np.abs((wt*Dt[Qt==1]).sum()/ (wi*Dt).sum() - 1)}, # duration should be within a % of index\n",
    "            {'type': 'ineq', 'args': (chi, wi, St,),'fun': lambda wt, chi, wi, St: chi - np.abs((wt*St[Qt==1]).sum()/ (wi*St).sum() - 1)}, # spread should be within a % of index\n",
    "#             {'type': 'eq', 'args': (Qt,),'fun': lambda wt, Qt: (wt*(1-Qt[Qt==1])).sum()} #only trade Q==1 assets\n",
    "           )\n",
    "    ## optimization function is defined in custom feature\n",
    "    CustomFeaturesCls = CustomFeatures()\n",
    "    weights = minimize(CustomFeaturesCls.newFeature1, wi[Qt==1], args=(wt_1, ri[Qt==1], k,), method='SLSQP', bounds=bounds,constraints=cons,\n",
    "                      options={'maxiter': 500, 'ftol': 1e-06, 'iprint': 1, 'disp': True})   \n",
    "    print(weights.success, weights.message)\n",
    "    \n",
    "    w = pd.Series(0, index = date_data['Identifier'])\n",
    "    w[qt==1] = pd.Series(weights.x , index = allowed) ## assets with q==1 are assigned weights, rest are zero\n",
    "    print(np.sum(weights.x))\n",
    "    return w"
   ]
  },
  {
   "cell_type": "code",
   "execution_count": 38,
   "metadata": {},
   "outputs": [],
   "source": [
    "def getKwargs():   \n",
    "    return {}"
   ]
  },
  {
   "cell_type": "code",
   "execution_count": 39,
   "metadata": {},
   "outputs": [],
   "source": [
    "## Step 3: Optional: Fill in the logic to return predictions for return on asset\n",
    "## This function takes in the same inputs as getWeights()\n",
    "\n",
    "### do not change the inputs to the function. If you want any extra inputs, specify them as **kwargs\n",
    "### you can lookup this tutorial on how to use **kwargs https://www.geeksforgeeks.org/args-kwargs-python/\n",
    "\n",
    "def getPrediction(identifiers, wi, Dt, St, Qt, g, U, t, T, P, delta, chi, eta, df, trr, wt_1,**kwargs):\n",
    "    ################################################\n",
    "    ####   COPY FROM BELOW INTO TEMPLATE FILE   ####\n",
    "    ################################################\n",
    "    \n",
    "    X = kwargs['df'].copy()\n",
    "    del X['AssetGroup']\n",
    "    del X['Identifier']\n",
    "    del X['F2']\n",
    "    X['NAs'] = X.isnull().sum(axis=1)\n",
    "    X = X.replace([np.inf, -np.inf], np.nan)\n",
    "    X.fillna(-50, inplace=True)\n",
    "    y1 = knn.predict(X)\n",
    "    \n",
    "    ri = pd.Series(y1, index = date_data['Identifier'])\n",
    "    \n",
    "    return ri"
   ]
  },
  {
   "cell_type": "markdown",
   "metadata": {},
   "source": [
    "Run the cells below to evaluate.\n",
    "The snippet below downloads the correct dataset and lets you explore the dataset.\n",
    "\n",
    "Note Remember TRR: Total Return at the end of the period - VERY IMPORTANT!! The snippet below enforces this. \n",
    "You can read all the features from df `idx_data_noTRR` and TRR from df `idx_data_TRR`. TRR for a certain period only becomes available after period end.\n",
    "\n",
    "Once you are happy with your submission, copy the appropriate functions into the template file"
   ]
  },
  {
   "cell_type": "code",
   "execution_count": 40,
   "metadata": {},
   "outputs": [],
   "source": [
    "# empty lists to store returns, volatility and weights of imaginary portfolios\n",
    "port_returns = []\n",
    "port_volatility = []\n",
    "sharpe_ratio = []\n",
    "asset_weights = []\n",
    "reward_list = []\n",
    "turnover_list = []\n",
    "idx_returns = []\n",
    "\n",
    "#port_returns ,port_volatility ,sharpe_ratio ,asset_weights ,reward_list ,turnover_list ,idx_returns \n",
    "\n",
    "#empty df to store previous period returns\n",
    "ri = None\n",
    "\n",
    "#empty dict to store values by date\n",
    "dict_metrics_by_date = {}\n"
   ]
  },
  {
   "cell_type": "code",
   "execution_count": 43,
   "metadata": {},
   "outputs": [
    {
     "name": "stdout",
     "output_type": "stream",
     "text": [
      "('G5', '1998-12-31', '1998-12-31')\n",
      "Optimization terminated successfully.    (Exit mode 0)\n",
      "            Current function value: 1.61881988899\n",
      "            Iterations: 27\n",
      "            Function evaluations: 2162\n",
      "            Gradient evaluations: 23\n",
      "(True, 'Optimization terminated successfully.')\n",
      "0.7820265052580263\n",
      "0.7820265052580263\n",
      "Fully Invested Constraint Violated: Sum of weights is not 1\n",
      "Duration Constraint Violated: wt*Dt/ wi*Dt 0.63 is greater than parameter delta\n",
      "Spread Constraint Violated: wt*St/ wi*St 0.52 is greater than parameter chi\n",
      "ERROR!!!! weights don't meet contraints, exiting\n",
      "{'Index Returns': 0, '12m turnover': 0.38011006531063707, 'returns': 0, 'Reward': 0, 'Sharpe Ratio': 0, 'volatility': 0}\n",
      "('G5', '1998-12-31', '1999-01-31')\n"
     ]
    },
    {
     "name": "stderr",
     "output_type": "stream",
     "text": [
      "/Users/chandinijain/Library/Python/2.7/lib/python/site-packages/ipykernel_launcher.py:41: SettingWithCopyWarning: \n",
      "A value is trying to be set on a copy of a slice from a DataFrame.\n",
      "Try using .loc[row_indexer,col_indexer] = value instead\n",
      "\n",
      "See the caveats in the documentation: http://pandas.pydata.org/pandas-docs/stable/indexing.html#indexing-view-versus-copy\n"
     ]
    },
    {
     "name": "stdout",
     "output_type": "stream",
     "text": [
      "Positive directional derivative for linesearch    (Exit mode 8)\n",
      "            Current function value: 1.81285113217\n",
      "            Iterations: 34\n",
      "            Function evaluations: 2906\n",
      "            Gradient evaluations: 30\n",
      "(False, 'Positive directional derivative for linesearch')\n",
      "0.7880005095536557\n",
      "0.7880005095536557\n",
      "Fully Invested Constraint Violated: Sum of weights is not 1\n",
      "2.60 Turnover Constraint Violated: Turnover Limit exceeded\n",
      "Duration Constraint Violated: wt*Dt/ wi*Dt 0.63 is greater than parameter delta\n",
      "Spread Constraint Violated: wt*St/ wi*St 0.53 is greater than parameter chi\n",
      "ERROR!!!! weights don't meet contraints, exiting\n",
      "{'Index Returns': -2.4817292545000003, '12m turnover': 0.20711899701312245, 'returns': -0.20943989806650898, 'Reward': -0.3183797985558618, 'Sharpe Ratio': 0.45838507055824484, 'volatility': 0.8613329657071462}\n",
      "('G5', '1998-12-31', '1999-02-28')\n",
      "Optimization terminated successfully.    (Exit mode 0)\n",
      "            Current function value: 1.41026927273\n",
      "            Iterations: 39\n",
      "            Function evaluations: 3422\n",
      "            Gradient evaluations: 35\n",
      "(True, 'Optimization terminated successfully.')\n",
      "0.7900975626839746\n",
      "0.7900975626839746\n",
      "Fully Invested Constraint Violated: Sum of weights is not 1\n",
      "2.57 Turnover Constraint Violated: Turnover Limit exceeded\n",
      "Duration Constraint Violated: wt*Dt/ wi*Dt 0.62 is greater than parameter delta\n",
      "Spread Constraint Violated: wt*St/ wi*St 0.51 is greater than parameter chi\n",
      "ERROR!!!! weights don't meet contraints, exiting\n",
      "{'Index Returns': 2.5843507140999997, '12m turnover': 0.1711545258713929, 'returns': 0.3659356281252333, 'Reward': 0.2673751917337313, 'Sharpe Ratio': 0.5117183197450954, 'volatility': 0.8613329657071462}\n",
      "('G5', '1998-12-31', '1999-03-31')\n",
      "Positive directional derivative for linesearch    (Exit mode 8)\n",
      "            Current function value: 1.51884252572\n",
      "            Iterations: 30\n",
      "            Function evaluations: 2596\n",
      "            Gradient evaluations: 26\n",
      "(False, 'Positive directional derivative for linesearch')\n",
      "0.7843304703695912\n",
      "0.7843304703695915\n",
      "Fully Invested Constraint Violated: Sum of weights is not 1\n",
      "Duration Constraint Violated: wt*Dt/ wi*Dt 0.61 is greater than parameter delta\n",
      "Spread Constraint Violated: wt*St/ wi*St 0.50 is greater than parameter chi\n",
      "ERROR!!!! weights don't meet contraints, exiting\n",
      "{'Index Returns': 5.691057804, '12m turnover': 0.06721401634087659, 'returns': 0.8077087805975043, 'Reward': 0.7113062124745061, 'Sharpe Ratio': 0.6485542198746568, 'volatility': 0.8613329657071462}\n",
      "('G5', '1998-12-31', '1999-04-30')\n",
      "Optimization terminated successfully.    (Exit mode 0)\n",
      "            Current function value: 1.29224752103\n",
      "            Iterations: 22\n",
      "            Function evaluations: 1748\n",
      "            Gradient evaluations: 18\n",
      "(True, 'Optimization terminated successfully.')\n",
      "0.7855949837924421\n",
      "0.7855949837924419\n",
      "Fully Invested Constraint Violated: Sum of weights is not 1\n",
      "Duration Constraint Violated: wt*Dt/ wi*Dt 0.61 is greater than parameter delta\n",
      "Spread Constraint Violated: wt*St/ wi*St 0.50 is greater than parameter chi\n",
      "ERROR!!!! weights don't meet contraints, exiting\n",
      "{'Index Returns': 4.7710558143, '12m turnover': 0.2041253290519899, 'returns': 0.8076404756037854, 'Reward': 0.7174743380526181, 'Sharpe Ratio': 0.7723450481611965, 'volatility': 0.8613329657071462}\n",
      "('G5', '1998-12-31', '1999-05-31')\n",
      "Positive directional derivative for linesearch    (Exit mode 8)\n",
      "            Current function value: 1.65813480245\n",
      "            Iterations: 25\n",
      "            Function evaluations: 2184\n",
      "            Gradient evaluations: 21\n",
      "(False, 'Positive directional derivative for linesearch')\n",
      "0.7830086431868283\n",
      "0.7830086431868284\n",
      "Fully Invested Constraint Violated: Sum of weights is not 1\n",
      "Duration Constraint Violated: wt*Dt/ wi*Dt 0.59 is greater than parameter delta\n",
      "Spread Constraint Violated: wt*St/ wi*St 0.49 is greater than parameter chi\n",
      "ERROR!!!! weights don't meet contraints, exiting\n",
      "{'Index Returns': -2.4253058477000002, '12m turnover': 0.30224652347336534, 'returns': -0.49492880639747505, 'Reward': -0.5865099147278084, 'Sharpe Ratio': 0.7021952726427861, 'volatility': 0.79333588587214}\n",
      "('G5', '1998-12-31', '1999-06-30')\n"
     ]
    },
    {
     "ename": "KeyboardInterrupt",
     "evalue": "",
     "output_type": "error",
     "traceback": [
      "\u001b[0;31m---------------------------------------------------------------------------\u001b[0m",
      "\u001b[0;31mKeyboardInterrupt\u001b[0m                         Traceback (most recent call last)",
      "\u001b[0;32m<ipython-input-43-5908b3527fa2>\u001b[0m in \u001b[0;36m<module>\u001b[0;34m()\u001b[0m\n\u001b[1;32m     70\u001b[0m         \u001b[0mwt\u001b[0m \u001b[0;34m=\u001b[0m \u001b[0mwi\u001b[0m\u001b[0;34m.\u001b[0m\u001b[0mcopy\u001b[0m\u001b[0;34m(\u001b[0m\u001b[0;34m)\u001b[0m\u001b[0;34m\u001b[0m\u001b[0m\n\u001b[1;32m     71\u001b[0m     \u001b[0;32melse\u001b[0m\u001b[0;34m:\u001b[0m\u001b[0;34m\u001b[0m\u001b[0m\n\u001b[0;32m---> 72\u001b[0;31m         \u001b[0mwt\u001b[0m \u001b[0;34m=\u001b[0m \u001b[0mgetWeights\u001b[0m\u001b[0;34m(\u001b[0m\u001b[0mcusips\u001b[0m\u001b[0;34m,\u001b[0m \u001b[0mreward_list\u001b[0m\u001b[0;34m[\u001b[0m\u001b[0;34m-\u001b[0m\u001b[0;36m1\u001b[0m\u001b[0;34m]\u001b[0m\u001b[0;34m,\u001b[0m \u001b[0mwi\u001b[0m\u001b[0;34m,\u001b[0m \u001b[0mDt\u001b[0m\u001b[0;34m,\u001b[0m \u001b[0mSt\u001b[0m\u001b[0;34m,\u001b[0m \u001b[0mqt\u001b[0m\u001b[0;34m,\u001b[0m \u001b[0mg\u001b[0m\u001b[0;34m,\u001b[0m \u001b[0mU\u001b[0m\u001b[0;34m,\u001b[0m \u001b[0mt\u001b[0m\u001b[0;34m,\u001b[0m \u001b[0mT\u001b[0m\u001b[0;34m,\u001b[0m \u001b[0mP\u001b[0m\u001b[0;34m,\u001b[0m \u001b[0mdelta\u001b[0m\u001b[0;34m,\u001b[0m \u001b[0mchi\u001b[0m\u001b[0;34m,\u001b[0m \u001b[0meta\u001b[0m\u001b[0;34m,\u001b[0m                        \u001b[0mdate_data\u001b[0m\u001b[0;34m,\u001b[0m \u001b[0mri\u001b[0m\u001b[0;34m,\u001b[0m \u001b[0mwt_1\u001b[0m\u001b[0;34m,\u001b[0m \u001b[0;34m**\u001b[0m\u001b[0mgetKwargs\u001b[0m\u001b[0;34m(\u001b[0m\u001b[0;34m)\u001b[0m\u001b[0;34m)\u001b[0m\u001b[0;34m\u001b[0m\u001b[0m\n\u001b[0m\u001b[1;32m     73\u001b[0m \u001b[0;34m\u001b[0m\u001b[0m\n\u001b[1;32m     74\u001b[0m \u001b[0;34m\u001b[0m\u001b[0m\n",
      "\u001b[0;32m<ipython-input-37-d664cfa7676d>\u001b[0m in \u001b[0;36mgetWeights\u001b[0;34m(identifiers, reward, wi, Dt, St, Qt, g, U, t, T, P, delta, chi, eta, df, trr, wt_1, **kwargs)\u001b[0m\n\u001b[1;32m     22\u001b[0m     \u001b[0mCustomFeaturesCls\u001b[0m \u001b[0;34m=\u001b[0m \u001b[0mCustomFeatures\u001b[0m\u001b[0;34m(\u001b[0m\u001b[0;34m)\u001b[0m\u001b[0;34m\u001b[0m\u001b[0m\n\u001b[1;32m     23\u001b[0m     weights = minimize(CustomFeaturesCls.newFeature1, wi[Qt==1], args=(wt_1, ri[Qt==1], k,), method='SLSQP', bounds=bounds,constraints=cons,\n\u001b[0;32m---> 24\u001b[0;31m                       options={'maxiter': 500, 'ftol': 1e-06, 'iprint': 1, 'disp': True})   \n\u001b[0m\u001b[1;32m     25\u001b[0m     \u001b[0;32mprint\u001b[0m\u001b[0;34m(\u001b[0m\u001b[0mweights\u001b[0m\u001b[0;34m.\u001b[0m\u001b[0msuccess\u001b[0m\u001b[0;34m,\u001b[0m \u001b[0mweights\u001b[0m\u001b[0;34m.\u001b[0m\u001b[0mmessage\u001b[0m\u001b[0;34m)\u001b[0m\u001b[0;34m\u001b[0m\u001b[0m\n\u001b[1;32m     26\u001b[0m \u001b[0;34m\u001b[0m\u001b[0m\n",
      "\u001b[0;32m/Users/chandinijain/Library/Python/2.7/lib/python/site-packages/scipy/optimize/_minimize.pyc\u001b[0m in \u001b[0;36mminimize\u001b[0;34m(fun, x0, args, method, jac, hess, hessp, bounds, constraints, tol, callback, options)\u001b[0m\n\u001b[1;32m    493\u001b[0m     \u001b[0;32melif\u001b[0m \u001b[0mmeth\u001b[0m \u001b[0;34m==\u001b[0m \u001b[0;34m'slsqp'\u001b[0m\u001b[0;34m:\u001b[0m\u001b[0;34m\u001b[0m\u001b[0m\n\u001b[1;32m    494\u001b[0m         return _minimize_slsqp(fun, x0, args, jac, bounds,\n\u001b[0;32m--> 495\u001b[0;31m                                constraints, callback=callback, **options)\n\u001b[0m\u001b[1;32m    496\u001b[0m     \u001b[0;32melif\u001b[0m \u001b[0mmeth\u001b[0m \u001b[0;34m==\u001b[0m \u001b[0;34m'dogleg'\u001b[0m\u001b[0;34m:\u001b[0m\u001b[0;34m\u001b[0m\u001b[0m\n\u001b[1;32m    497\u001b[0m         return _minimize_dogleg(fun, x0, args, jac, hess,\n",
      "\u001b[0;32m/Users/chandinijain/Library/Python/2.7/lib/python/site-packages/scipy/optimize/slsqp.pyc\u001b[0m in \u001b[0;36m_minimize_slsqp\u001b[0;34m(func, x0, args, jac, bounds, constraints, maxiter, ftol, iprint, disp, eps, callback, **unknown_options)\u001b[0m\n\u001b[1;32m    400\u001b[0m             \u001b[0;31m# Compute the derivatives of the objective function\u001b[0m\u001b[0;34m\u001b[0m\u001b[0;34m\u001b[0m\u001b[0m\n\u001b[1;32m    401\u001b[0m             \u001b[0;31m# For some reason SLSQP wants g dimensioned to n+1\u001b[0m\u001b[0;34m\u001b[0m\u001b[0;34m\u001b[0m\u001b[0m\n\u001b[0;32m--> 402\u001b[0;31m             \u001b[0mg\u001b[0m \u001b[0;34m=\u001b[0m \u001b[0mappend\u001b[0m\u001b[0;34m(\u001b[0m\u001b[0mfprime\u001b[0m\u001b[0;34m(\u001b[0m\u001b[0mx\u001b[0m\u001b[0;34m)\u001b[0m\u001b[0;34m,\u001b[0m \u001b[0;36m0.0\u001b[0m\u001b[0;34m)\u001b[0m\u001b[0;34m\u001b[0m\u001b[0m\n\u001b[0m\u001b[1;32m    403\u001b[0m \u001b[0;34m\u001b[0m\u001b[0m\n\u001b[1;32m    404\u001b[0m             \u001b[0;31m# Compute the normals of the constraints\u001b[0m\u001b[0;34m\u001b[0m\u001b[0;34m\u001b[0m\u001b[0m\n",
      "\u001b[0;32m/Users/chandinijain/Library/Python/2.7/lib/python/site-packages/scipy/optimize/optimize.pyc\u001b[0m in \u001b[0;36mfunction_wrapper\u001b[0;34m(*wrapper_args)\u001b[0m\n\u001b[1;32m    290\u001b[0m     \u001b[0;32mdef\u001b[0m \u001b[0mfunction_wrapper\u001b[0m\u001b[0;34m(\u001b[0m\u001b[0;34m*\u001b[0m\u001b[0mwrapper_args\u001b[0m\u001b[0;34m)\u001b[0m\u001b[0;34m:\u001b[0m\u001b[0;34m\u001b[0m\u001b[0m\n\u001b[1;32m    291\u001b[0m         \u001b[0mncalls\u001b[0m\u001b[0;34m[\u001b[0m\u001b[0;36m0\u001b[0m\u001b[0;34m]\u001b[0m \u001b[0;34m+=\u001b[0m \u001b[0;36m1\u001b[0m\u001b[0;34m\u001b[0m\u001b[0m\n\u001b[0;32m--> 292\u001b[0;31m         \u001b[0;32mreturn\u001b[0m \u001b[0mfunction\u001b[0m\u001b[0;34m(\u001b[0m\u001b[0;34m*\u001b[0m\u001b[0;34m(\u001b[0m\u001b[0mwrapper_args\u001b[0m \u001b[0;34m+\u001b[0m \u001b[0margs\u001b[0m\u001b[0;34m)\u001b[0m\u001b[0;34m)\u001b[0m\u001b[0;34m\u001b[0m\u001b[0m\n\u001b[0m\u001b[1;32m    293\u001b[0m \u001b[0;34m\u001b[0m\u001b[0m\n\u001b[1;32m    294\u001b[0m     \u001b[0;32mreturn\u001b[0m \u001b[0mncalls\u001b[0m\u001b[0;34m,\u001b[0m \u001b[0mfunction_wrapper\u001b[0m\u001b[0;34m\u001b[0m\u001b[0m\n",
      "\u001b[0;32m/Users/chandinijain/Library/Python/2.7/lib/python/site-packages/scipy/optimize/slsqp.pyc\u001b[0m in \u001b[0;36mapprox_jacobian\u001b[0;34m(x, func, epsilon, *args)\u001b[0m\n\u001b[1;32m     61\u001b[0m     \u001b[0;32mfor\u001b[0m \u001b[0mi\u001b[0m \u001b[0;32min\u001b[0m \u001b[0mrange\u001b[0m\u001b[0;34m(\u001b[0m\u001b[0mlen\u001b[0m\u001b[0;34m(\u001b[0m\u001b[0mx0\u001b[0m\u001b[0;34m)\u001b[0m\u001b[0;34m)\u001b[0m\u001b[0;34m:\u001b[0m\u001b[0;34m\u001b[0m\u001b[0m\n\u001b[1;32m     62\u001b[0m         \u001b[0mdx\u001b[0m\u001b[0;34m[\u001b[0m\u001b[0mi\u001b[0m\u001b[0;34m]\u001b[0m \u001b[0;34m=\u001b[0m \u001b[0mepsilon\u001b[0m\u001b[0;34m\u001b[0m\u001b[0m\n\u001b[0;32m---> 63\u001b[0;31m         \u001b[0mjac\u001b[0m\u001b[0;34m[\u001b[0m\u001b[0mi\u001b[0m\u001b[0;34m]\u001b[0m \u001b[0;34m=\u001b[0m \u001b[0;34m(\u001b[0m\u001b[0mfunc\u001b[0m\u001b[0;34m(\u001b[0m\u001b[0;34m*\u001b[0m\u001b[0;34m(\u001b[0m\u001b[0;34m(\u001b[0m\u001b[0mx0\u001b[0m\u001b[0;34m+\u001b[0m\u001b[0mdx\u001b[0m\u001b[0;34m,\u001b[0m\u001b[0;34m)\u001b[0m\u001b[0;34m+\u001b[0m\u001b[0margs\u001b[0m\u001b[0;34m)\u001b[0m\u001b[0;34m)\u001b[0m \u001b[0;34m-\u001b[0m \u001b[0mf0\u001b[0m\u001b[0;34m)\u001b[0m\u001b[0;34m/\u001b[0m\u001b[0mepsilon\u001b[0m\u001b[0;34m\u001b[0m\u001b[0m\n\u001b[0m\u001b[1;32m     64\u001b[0m         \u001b[0mdx\u001b[0m\u001b[0;34m[\u001b[0m\u001b[0mi\u001b[0m\u001b[0;34m]\u001b[0m \u001b[0;34m=\u001b[0m \u001b[0;36m0.0\u001b[0m\u001b[0;34m\u001b[0m\u001b[0m\n\u001b[1;32m     65\u001b[0m \u001b[0;34m\u001b[0m\u001b[0m\n",
      "\u001b[0;32m/Users/chandinijain/Library/Python/2.7/lib/python/site-packages/scipy/optimize/optimize.pyc\u001b[0m in \u001b[0;36mfunction_wrapper\u001b[0;34m(*wrapper_args)\u001b[0m\n\u001b[1;32m    290\u001b[0m     \u001b[0;32mdef\u001b[0m \u001b[0mfunction_wrapper\u001b[0m\u001b[0;34m(\u001b[0m\u001b[0;34m*\u001b[0m\u001b[0mwrapper_args\u001b[0m\u001b[0;34m)\u001b[0m\u001b[0;34m:\u001b[0m\u001b[0;34m\u001b[0m\u001b[0m\n\u001b[1;32m    291\u001b[0m         \u001b[0mncalls\u001b[0m\u001b[0;34m[\u001b[0m\u001b[0;36m0\u001b[0m\u001b[0;34m]\u001b[0m \u001b[0;34m+=\u001b[0m \u001b[0;36m1\u001b[0m\u001b[0;34m\u001b[0m\u001b[0m\n\u001b[0;32m--> 292\u001b[0;31m         \u001b[0;32mreturn\u001b[0m \u001b[0mfunction\u001b[0m\u001b[0;34m(\u001b[0m\u001b[0;34m*\u001b[0m\u001b[0;34m(\u001b[0m\u001b[0mwrapper_args\u001b[0m \u001b[0;34m+\u001b[0m \u001b[0margs\u001b[0m\u001b[0;34m)\u001b[0m\u001b[0;34m)\u001b[0m\u001b[0;34m\u001b[0m\u001b[0m\n\u001b[0m\u001b[1;32m    293\u001b[0m \u001b[0;34m\u001b[0m\u001b[0m\n\u001b[1;32m    294\u001b[0m     \u001b[0;32mreturn\u001b[0m \u001b[0mncalls\u001b[0m\u001b[0;34m,\u001b[0m \u001b[0mfunction_wrapper\u001b[0m\u001b[0;34m\u001b[0m\u001b[0m\n",
      "\u001b[0;32m<ipython-input-31-df9e6dde15b6>\u001b[0m in \u001b[0;36mnewFeature1\u001b[0;34m(self, wt, wt_1, ri, k)\u001b[0m\n\u001b[1;32m     17\u001b[0m             \u001b[0mix\u001b[0m \u001b[0;34m=\u001b[0m \u001b[0mweights\u001b[0m\u001b[0;34m.\u001b[0m\u001b[0mindex\u001b[0m \u001b[0;34m|\u001b[0m \u001b[0mwt_1\u001b[0m\u001b[0;34m.\u001b[0m\u001b[0mindex\u001b[0m\u001b[0;34m\u001b[0m\u001b[0m\n\u001b[1;32m     18\u001b[0m             \u001b[0mtn\u001b[0m \u001b[0;34m=\u001b[0m \u001b[0mweights\u001b[0m\u001b[0;34m.\u001b[0m\u001b[0mreindex\u001b[0m\u001b[0;34m(\u001b[0m\u001b[0mix\u001b[0m\u001b[0;34m)\u001b[0m \u001b[0;34m-\u001b[0m \u001b[0mwt_1\u001b[0m\u001b[0;34m.\u001b[0m\u001b[0mreindex\u001b[0m\u001b[0;34m(\u001b[0m\u001b[0mix\u001b[0m\u001b[0;34m)\u001b[0m\u001b[0;34m\u001b[0m\u001b[0m\n\u001b[0;32m---> 19\u001b[0;31m             \u001b[0mtn\u001b[0m\u001b[0;34m[\u001b[0m\u001b[0mtn\u001b[0m\u001b[0;34m.\u001b[0m\u001b[0misnull\u001b[0m\u001b[0;34m(\u001b[0m\u001b[0;34m)\u001b[0m\u001b[0;34m&\u001b[0m\u001b[0mtn\u001b[0m\u001b[0;34m.\u001b[0m\u001b[0mindex\u001b[0m\u001b[0;34m.\u001b[0m\u001b[0misin\u001b[0m\u001b[0;34m(\u001b[0m\u001b[0mweights\u001b[0m\u001b[0;34m.\u001b[0m\u001b[0mindex\u001b[0m\u001b[0;34m)\u001b[0m\u001b[0;34m]\u001b[0m \u001b[0;34m=\u001b[0m \u001b[0mweights\u001b[0m\u001b[0;34m\u001b[0m\u001b[0m\n\u001b[0m\u001b[1;32m     20\u001b[0m             \u001b[0mtn\u001b[0m\u001b[0;34m[\u001b[0m\u001b[0mtn\u001b[0m\u001b[0;34m.\u001b[0m\u001b[0misnull\u001b[0m\u001b[0;34m(\u001b[0m\u001b[0;34m)\u001b[0m\u001b[0;34m&\u001b[0m\u001b[0mtn\u001b[0m\u001b[0;34m.\u001b[0m\u001b[0mindex\u001b[0m\u001b[0;34m.\u001b[0m\u001b[0misin\u001b[0m\u001b[0;34m(\u001b[0m\u001b[0mwt_1\u001b[0m\u001b[0;34m.\u001b[0m\u001b[0mindex\u001b[0m\u001b[0;34m)\u001b[0m\u001b[0;34m]\u001b[0m \u001b[0;34m=\u001b[0m \u001b[0;34m-\u001b[0m\u001b[0mwt_1\u001b[0m\u001b[0;34m\u001b[0m\u001b[0m\n\u001b[1;32m     21\u001b[0m             \u001b[0mphi\u001b[0m \u001b[0;34m=\u001b[0m \u001b[0mk\u001b[0m\u001b[0;34m*\u001b[0m\u001b[0mtn\u001b[0m\u001b[0;34m.\u001b[0m\u001b[0mabs\u001b[0m\u001b[0;34m(\u001b[0m\u001b[0;34m)\u001b[0m\u001b[0;34m.\u001b[0m\u001b[0msum\u001b[0m\u001b[0;34m(\u001b[0m\u001b[0;34m)\u001b[0m\u001b[0;34m\u001b[0m\u001b[0m\n",
      "\u001b[0;32m/Users/chandinijain/Library/Python/2.7/lib/python/site-packages/pandas/core/series.pyc\u001b[0m in \u001b[0;36m__setitem__\u001b[0;34m(self, key, value)\u001b[0m\n\u001b[1;32m    791\u001b[0m         \u001b[0;31m# do the setitem\u001b[0m\u001b[0;34m\u001b[0m\u001b[0;34m\u001b[0m\u001b[0m\n\u001b[1;32m    792\u001b[0m         \u001b[0mcacher_needs_updating\u001b[0m \u001b[0;34m=\u001b[0m \u001b[0mself\u001b[0m\u001b[0;34m.\u001b[0m\u001b[0m_check_is_chained_assignment_possible\u001b[0m\u001b[0;34m(\u001b[0m\u001b[0;34m)\u001b[0m\u001b[0;34m\u001b[0m\u001b[0m\n\u001b[0;32m--> 793\u001b[0;31m         \u001b[0msetitem\u001b[0m\u001b[0;34m(\u001b[0m\u001b[0mkey\u001b[0m\u001b[0;34m,\u001b[0m \u001b[0mvalue\u001b[0m\u001b[0;34m)\u001b[0m\u001b[0;34m\u001b[0m\u001b[0m\n\u001b[0m\u001b[1;32m    794\u001b[0m         \u001b[0;32mif\u001b[0m \u001b[0mcacher_needs_updating\u001b[0m\u001b[0;34m:\u001b[0m\u001b[0;34m\u001b[0m\u001b[0m\n\u001b[1;32m    795\u001b[0m             \u001b[0mself\u001b[0m\u001b[0;34m.\u001b[0m\u001b[0m_maybe_update_cacher\u001b[0m\u001b[0;34m(\u001b[0m\u001b[0;34m)\u001b[0m\u001b[0;34m\u001b[0m\u001b[0m\n",
      "\u001b[0;32m/Users/chandinijain/Library/Python/2.7/lib/python/site-packages/pandas/core/series.pyc\u001b[0m in \u001b[0;36msetitem\u001b[0;34m(key, value)\u001b[0m\n\u001b[1;32m    739\u001b[0m         \u001b[0;32mdef\u001b[0m \u001b[0msetitem\u001b[0m\u001b[0;34m(\u001b[0m\u001b[0mkey\u001b[0m\u001b[0;34m,\u001b[0m \u001b[0mvalue\u001b[0m\u001b[0;34m)\u001b[0m\u001b[0;34m:\u001b[0m\u001b[0;34m\u001b[0m\u001b[0m\n\u001b[1;32m    740\u001b[0m             \u001b[0;32mtry\u001b[0m\u001b[0;34m:\u001b[0m\u001b[0;34m\u001b[0m\u001b[0m\n\u001b[0;32m--> 741\u001b[0;31m                 \u001b[0mself\u001b[0m\u001b[0;34m.\u001b[0m\u001b[0m_set_with_engine\u001b[0m\u001b[0;34m(\u001b[0m\u001b[0mkey\u001b[0m\u001b[0;34m,\u001b[0m \u001b[0mvalue\u001b[0m\u001b[0;34m)\u001b[0m\u001b[0;34m\u001b[0m\u001b[0m\n\u001b[0m\u001b[1;32m    742\u001b[0m                 \u001b[0;32mreturn\u001b[0m\u001b[0;34m\u001b[0m\u001b[0m\n\u001b[1;32m    743\u001b[0m             \u001b[0;32mexcept\u001b[0m \u001b[0;34m(\u001b[0m\u001b[0mSettingWithCopyError\u001b[0m\u001b[0;34m)\u001b[0m\u001b[0;34m:\u001b[0m\u001b[0;34m\u001b[0m\u001b[0m\n",
      "\u001b[0;32m/Users/chandinijain/Library/Python/2.7/lib/python/site-packages/pandas/core/series.pyc\u001b[0m in \u001b[0;36m_set_with_engine\u001b[0;34m(self, key, value)\u001b[0m\n\u001b[1;32m    798\u001b[0m         \u001b[0mvalues\u001b[0m \u001b[0;34m=\u001b[0m \u001b[0mself\u001b[0m\u001b[0;34m.\u001b[0m\u001b[0m_values\u001b[0m\u001b[0;34m\u001b[0m\u001b[0m\n\u001b[1;32m    799\u001b[0m         \u001b[0;32mtry\u001b[0m\u001b[0;34m:\u001b[0m\u001b[0;34m\u001b[0m\u001b[0m\n\u001b[0;32m--> 800\u001b[0;31m             \u001b[0mself\u001b[0m\u001b[0;34m.\u001b[0m\u001b[0mindex\u001b[0m\u001b[0;34m.\u001b[0m\u001b[0m_engine\u001b[0m\u001b[0;34m.\u001b[0m\u001b[0mset_value\u001b[0m\u001b[0;34m(\u001b[0m\u001b[0mvalues\u001b[0m\u001b[0;34m,\u001b[0m \u001b[0mkey\u001b[0m\u001b[0;34m,\u001b[0m \u001b[0mvalue\u001b[0m\u001b[0;34m)\u001b[0m\u001b[0;34m\u001b[0m\u001b[0m\n\u001b[0m\u001b[1;32m    801\u001b[0m             \u001b[0;32mreturn\u001b[0m\u001b[0;34m\u001b[0m\u001b[0m\n\u001b[1;32m    802\u001b[0m         \u001b[0;32mexcept\u001b[0m \u001b[0mKeyError\u001b[0m\u001b[0;34m:\u001b[0m\u001b[0;34m\u001b[0m\u001b[0m\n",
      "\u001b[0;32mpandas/_libs/index.pyx\u001b[0m in \u001b[0;36mpandas._libs.index.IndexEngine.set_value\u001b[0;34m()\u001b[0m\n",
      "\u001b[0;32mpandas/_libs/index.pyx\u001b[0m in \u001b[0;36mpandas._libs.index.IndexEngine.set_value\u001b[0;34m()\u001b[0m\n",
      "\u001b[0;32mpandas/_libs/index.pyx\u001b[0m in \u001b[0;36mpandas._libs.index.IndexEngine.get_loc\u001b[0;34m()\u001b[0m\n",
      "\u001b[0;32m/Users/chandinijain/Library/Python/2.7/lib/python/site-packages/pandas/core/base.pyc\u001b[0m in \u001b[0;36m__str__\u001b[0;34m(self)\u001b[0m\n\u001b[1;32m     58\u001b[0m         \u001b[0;32mif\u001b[0m \u001b[0mcompat\u001b[0m\u001b[0;34m.\u001b[0m\u001b[0mPY3\u001b[0m\u001b[0;34m:\u001b[0m\u001b[0;34m\u001b[0m\u001b[0m\n\u001b[1;32m     59\u001b[0m             \u001b[0;32mreturn\u001b[0m \u001b[0mself\u001b[0m\u001b[0;34m.\u001b[0m\u001b[0m__unicode__\u001b[0m\u001b[0;34m(\u001b[0m\u001b[0;34m)\u001b[0m\u001b[0;34m\u001b[0m\u001b[0m\n\u001b[0;32m---> 60\u001b[0;31m         \u001b[0;32mreturn\u001b[0m \u001b[0mself\u001b[0m\u001b[0;34m.\u001b[0m\u001b[0m__bytes__\u001b[0m\u001b[0;34m(\u001b[0m\u001b[0;34m)\u001b[0m\u001b[0;34m\u001b[0m\u001b[0m\n\u001b[0m\u001b[1;32m     61\u001b[0m \u001b[0;34m\u001b[0m\u001b[0m\n\u001b[1;32m     62\u001b[0m     \u001b[0;32mdef\u001b[0m \u001b[0m__bytes__\u001b[0m\u001b[0;34m(\u001b[0m\u001b[0mself\u001b[0m\u001b[0;34m)\u001b[0m\u001b[0;34m:\u001b[0m\u001b[0;34m\u001b[0m\u001b[0m\n",
      "\u001b[0;32m/Users/chandinijain/Library/Python/2.7/lib/python/site-packages/pandas/core/base.pyc\u001b[0m in \u001b[0;36m__bytes__\u001b[0;34m(self)\u001b[0m\n\u001b[1;32m     70\u001b[0m \u001b[0;34m\u001b[0m\u001b[0m\n\u001b[1;32m     71\u001b[0m         \u001b[0mencoding\u001b[0m \u001b[0;34m=\u001b[0m \u001b[0mget_option\u001b[0m\u001b[0;34m(\u001b[0m\u001b[0;34m\"display.encoding\"\u001b[0m\u001b[0;34m)\u001b[0m\u001b[0;34m\u001b[0m\u001b[0m\n\u001b[0;32m---> 72\u001b[0;31m         \u001b[0;32mreturn\u001b[0m \u001b[0mself\u001b[0m\u001b[0;34m.\u001b[0m\u001b[0m__unicode__\u001b[0m\u001b[0;34m(\u001b[0m\u001b[0;34m)\u001b[0m\u001b[0;34m.\u001b[0m\u001b[0mencode\u001b[0m\u001b[0;34m(\u001b[0m\u001b[0mencoding\u001b[0m\u001b[0;34m,\u001b[0m \u001b[0;34m'replace'\u001b[0m\u001b[0;34m)\u001b[0m\u001b[0;34m\u001b[0m\u001b[0m\n\u001b[0m\u001b[1;32m     73\u001b[0m \u001b[0;34m\u001b[0m\u001b[0m\n\u001b[1;32m     74\u001b[0m     \u001b[0;32mdef\u001b[0m \u001b[0m__repr__\u001b[0m\u001b[0;34m(\u001b[0m\u001b[0mself\u001b[0m\u001b[0;34m)\u001b[0m\u001b[0;34m:\u001b[0m\u001b[0;34m\u001b[0m\u001b[0m\n",
      "\u001b[0;32m/Users/chandinijain/Library/Python/2.7/lib/python/site-packages/pandas/core/series.pyc\u001b[0m in \u001b[0;36m__unicode__\u001b[0;34m(self)\u001b[0m\n\u001b[1;32m   1064\u001b[0m \u001b[0;34m\u001b[0m\u001b[0m\n\u001b[1;32m   1065\u001b[0m         self.to_string(buf=buf, name=self.name, dtype=self.dtype,\n\u001b[0;32m-> 1066\u001b[0;31m                        max_rows=max_rows, length=show_dimensions)\n\u001b[0m\u001b[1;32m   1067\u001b[0m         \u001b[0mresult\u001b[0m \u001b[0;34m=\u001b[0m \u001b[0mbuf\u001b[0m\u001b[0;34m.\u001b[0m\u001b[0mgetvalue\u001b[0m\u001b[0;34m(\u001b[0m\u001b[0;34m)\u001b[0m\u001b[0;34m\u001b[0m\u001b[0m\n\u001b[1;32m   1068\u001b[0m \u001b[0;34m\u001b[0m\u001b[0m\n",
      "\u001b[0;32m/Users/chandinijain/Library/Python/2.7/lib/python/site-packages/pandas/core/series.pyc\u001b[0m in \u001b[0;36mto_string\u001b[0;34m(self, buf, na_rep, float_format, header, index, length, dtype, name, max_rows)\u001b[0m\n\u001b[1;32m   1107\u001b[0m                                         \u001b[0mdtype\u001b[0m\u001b[0;34m=\u001b[0m\u001b[0mdtype\u001b[0m\u001b[0;34m,\u001b[0m \u001b[0mna_rep\u001b[0m\u001b[0;34m=\u001b[0m\u001b[0mna_rep\u001b[0m\u001b[0;34m,\u001b[0m\u001b[0;34m\u001b[0m\u001b[0m\n\u001b[1;32m   1108\u001b[0m                                         \u001b[0mfloat_format\u001b[0m\u001b[0;34m=\u001b[0m\u001b[0mfloat_format\u001b[0m\u001b[0;34m,\u001b[0m\u001b[0;34m\u001b[0m\u001b[0m\n\u001b[0;32m-> 1109\u001b[0;31m                                         max_rows=max_rows)\n\u001b[0m\u001b[1;32m   1110\u001b[0m         \u001b[0mresult\u001b[0m \u001b[0;34m=\u001b[0m \u001b[0mformatter\u001b[0m\u001b[0;34m.\u001b[0m\u001b[0mto_string\u001b[0m\u001b[0;34m(\u001b[0m\u001b[0;34m)\u001b[0m\u001b[0;34m\u001b[0m\u001b[0m\n\u001b[1;32m   1111\u001b[0m \u001b[0;34m\u001b[0m\u001b[0m\n",
      "\u001b[0;32m/Users/chandinijain/Library/Python/2.7/lib/python/site-packages/pandas/io/formats/format.pyc\u001b[0m in \u001b[0;36m__init__\u001b[0;34m(self, series, buf, length, header, index, na_rep, name, float_format, dtype, max_rows)\u001b[0m\n\u001b[1;32m    174\u001b[0m         \u001b[0mself\u001b[0m\u001b[0;34m.\u001b[0m\u001b[0madj\u001b[0m \u001b[0;34m=\u001b[0m \u001b[0m_get_adjustment\u001b[0m\u001b[0;34m(\u001b[0m\u001b[0;34m)\u001b[0m\u001b[0;34m\u001b[0m\u001b[0m\n\u001b[1;32m    175\u001b[0m \u001b[0;34m\u001b[0m\u001b[0m\n\u001b[0;32m--> 176\u001b[0;31m         \u001b[0mself\u001b[0m\u001b[0;34m.\u001b[0m\u001b[0m_chk_truncate\u001b[0m\u001b[0;34m(\u001b[0m\u001b[0;34m)\u001b[0m\u001b[0;34m\u001b[0m\u001b[0m\n\u001b[0m\u001b[1;32m    177\u001b[0m \u001b[0;34m\u001b[0m\u001b[0m\n\u001b[1;32m    178\u001b[0m     \u001b[0;32mdef\u001b[0m \u001b[0m_chk_truncate\u001b[0m\u001b[0;34m(\u001b[0m\u001b[0mself\u001b[0m\u001b[0;34m)\u001b[0m\u001b[0;34m:\u001b[0m\u001b[0;34m\u001b[0m\u001b[0m\n",
      "\u001b[0;32m/Users/chandinijain/Library/Python/2.7/lib/python/site-packages/pandas/io/formats/format.pyc\u001b[0m in \u001b[0;36m_chk_truncate\u001b[0;34m(self)\u001b[0m\n\u001b[1;32m    188\u001b[0m                 \u001b[0mrow_num\u001b[0m \u001b[0;34m=\u001b[0m \u001b[0mmax_rows\u001b[0m \u001b[0;34m//\u001b[0m \u001b[0;36m2\u001b[0m\u001b[0;34m\u001b[0m\u001b[0m\n\u001b[1;32m    189\u001b[0m                 series = concat((series.iloc[:row_num],\n\u001b[0;32m--> 190\u001b[0;31m                                  series.iloc[-row_num:]))\n\u001b[0m\u001b[1;32m    191\u001b[0m             \u001b[0mself\u001b[0m\u001b[0;34m.\u001b[0m\u001b[0mtr_row_num\u001b[0m \u001b[0;34m=\u001b[0m \u001b[0mrow_num\u001b[0m\u001b[0;34m\u001b[0m\u001b[0m\n\u001b[1;32m    192\u001b[0m         \u001b[0mself\u001b[0m\u001b[0;34m.\u001b[0m\u001b[0mtr_series\u001b[0m \u001b[0;34m=\u001b[0m \u001b[0mseries\u001b[0m\u001b[0;34m\u001b[0m\u001b[0m\n",
      "\u001b[0;32m/Users/chandinijain/Library/Python/2.7/lib/python/site-packages/pandas/core/reshape/concat.pyc\u001b[0m in \u001b[0;36mconcat\u001b[0;34m(objs, axis, join, join_axes, ignore_index, keys, levels, names, verify_integrity, copy)\u001b[0m\n\u001b[1;32m    210\u001b[0m                        \u001b[0mkeys\u001b[0m\u001b[0;34m=\u001b[0m\u001b[0mkeys\u001b[0m\u001b[0;34m,\u001b[0m \u001b[0mlevels\u001b[0m\u001b[0;34m=\u001b[0m\u001b[0mlevels\u001b[0m\u001b[0;34m,\u001b[0m \u001b[0mnames\u001b[0m\u001b[0;34m=\u001b[0m\u001b[0mnames\u001b[0m\u001b[0;34m,\u001b[0m\u001b[0;34m\u001b[0m\u001b[0m\n\u001b[1;32m    211\u001b[0m                        \u001b[0mverify_integrity\u001b[0m\u001b[0;34m=\u001b[0m\u001b[0mverify_integrity\u001b[0m\u001b[0;34m,\u001b[0m\u001b[0;34m\u001b[0m\u001b[0m\n\u001b[0;32m--> 212\u001b[0;31m                        copy=copy)\n\u001b[0m\u001b[1;32m    213\u001b[0m     \u001b[0;32mreturn\u001b[0m \u001b[0mop\u001b[0m\u001b[0;34m.\u001b[0m\u001b[0mget_result\u001b[0m\u001b[0;34m(\u001b[0m\u001b[0;34m)\u001b[0m\u001b[0;34m\u001b[0m\u001b[0m\n\u001b[1;32m    214\u001b[0m \u001b[0;34m\u001b[0m\u001b[0m\n",
      "\u001b[0;32m/Users/chandinijain/Library/Python/2.7/lib/python/site-packages/pandas/core/reshape/concat.pyc\u001b[0m in \u001b[0;36m__init__\u001b[0;34m(self, objs, axis, join, join_axes, keys, levels, names, ignore_index, verify_integrity, copy)\u001b[0m\n\u001b[1;32m    306\u001b[0m         \u001b[0;31m# Standardize axis parameter to int\u001b[0m\u001b[0;34m\u001b[0m\u001b[0;34m\u001b[0m\u001b[0m\n\u001b[1;32m    307\u001b[0m         \u001b[0;32mif\u001b[0m \u001b[0misinstance\u001b[0m\u001b[0;34m(\u001b[0m\u001b[0msample\u001b[0m\u001b[0;34m,\u001b[0m \u001b[0mSeries\u001b[0m\u001b[0;34m)\u001b[0m\u001b[0;34m:\u001b[0m\u001b[0;34m\u001b[0m\u001b[0m\n\u001b[0;32m--> 308\u001b[0;31m             \u001b[0maxis\u001b[0m \u001b[0;34m=\u001b[0m \u001b[0mDataFrame\u001b[0m\u001b[0;34m(\u001b[0m\u001b[0;34m)\u001b[0m\u001b[0;34m.\u001b[0m\u001b[0m_get_axis_number\u001b[0m\u001b[0;34m(\u001b[0m\u001b[0maxis\u001b[0m\u001b[0;34m)\u001b[0m\u001b[0;34m\u001b[0m\u001b[0m\n\u001b[0m\u001b[1;32m    309\u001b[0m         \u001b[0;32melse\u001b[0m\u001b[0;34m:\u001b[0m\u001b[0;34m\u001b[0m\u001b[0m\n\u001b[1;32m    310\u001b[0m             \u001b[0maxis\u001b[0m \u001b[0;34m=\u001b[0m \u001b[0msample\u001b[0m\u001b[0;34m.\u001b[0m\u001b[0m_get_axis_number\u001b[0m\u001b[0;34m(\u001b[0m\u001b[0maxis\u001b[0m\u001b[0;34m)\u001b[0m\u001b[0;34m\u001b[0m\u001b[0m\n",
      "\u001b[0;32m/Users/chandinijain/Library/Python/2.7/lib/python/site-packages/pandas/core/frame.pyc\u001b[0m in \u001b[0;36m__init__\u001b[0;34m(self, data, index, columns, dtype, copy)\u001b[0m\n\u001b[1;32m    328\u001b[0m                                  dtype=dtype, copy=copy)\n\u001b[1;32m    329\u001b[0m         \u001b[0;32melif\u001b[0m \u001b[0misinstance\u001b[0m\u001b[0;34m(\u001b[0m\u001b[0mdata\u001b[0m\u001b[0;34m,\u001b[0m \u001b[0mdict\u001b[0m\u001b[0;34m)\u001b[0m\u001b[0;34m:\u001b[0m\u001b[0;34m\u001b[0m\u001b[0m\n\u001b[0;32m--> 330\u001b[0;31m             \u001b[0mmgr\u001b[0m \u001b[0;34m=\u001b[0m \u001b[0mself\u001b[0m\u001b[0;34m.\u001b[0m\u001b[0m_init_dict\u001b[0m\u001b[0;34m(\u001b[0m\u001b[0mdata\u001b[0m\u001b[0;34m,\u001b[0m \u001b[0mindex\u001b[0m\u001b[0;34m,\u001b[0m \u001b[0mcolumns\u001b[0m\u001b[0;34m,\u001b[0m \u001b[0mdtype\u001b[0m\u001b[0;34m=\u001b[0m\u001b[0mdtype\u001b[0m\u001b[0;34m)\u001b[0m\u001b[0;34m\u001b[0m\u001b[0m\n\u001b[0m\u001b[1;32m    331\u001b[0m         \u001b[0;32melif\u001b[0m \u001b[0misinstance\u001b[0m\u001b[0;34m(\u001b[0m\u001b[0mdata\u001b[0m\u001b[0;34m,\u001b[0m \u001b[0mma\u001b[0m\u001b[0;34m.\u001b[0m\u001b[0mMaskedArray\u001b[0m\u001b[0;34m)\u001b[0m\u001b[0;34m:\u001b[0m\u001b[0;34m\u001b[0m\u001b[0m\n\u001b[1;32m    332\u001b[0m             \u001b[0;32mimport\u001b[0m \u001b[0mnumpy\u001b[0m\u001b[0;34m.\u001b[0m\u001b[0mma\u001b[0m\u001b[0;34m.\u001b[0m\u001b[0mmrecords\u001b[0m \u001b[0;32mas\u001b[0m \u001b[0mmrecords\u001b[0m\u001b[0;34m\u001b[0m\u001b[0m\n",
      "\u001b[0;32m/Users/chandinijain/Library/Python/2.7/lib/python/site-packages/pandas/core/frame.pyc\u001b[0m in \u001b[0;36m_init_dict\u001b[0;34m(self, data, index, columns, dtype)\u001b[0m\n\u001b[1;32m    459\u001b[0m             \u001b[0marrays\u001b[0m \u001b[0;34m=\u001b[0m \u001b[0;34m[\u001b[0m\u001b[0mdata\u001b[0m\u001b[0;34m[\u001b[0m\u001b[0mk\u001b[0m\u001b[0;34m]\u001b[0m \u001b[0;32mfor\u001b[0m \u001b[0mk\u001b[0m \u001b[0;32min\u001b[0m \u001b[0mkeys\u001b[0m\u001b[0;34m]\u001b[0m\u001b[0;34m\u001b[0m\u001b[0m\n\u001b[1;32m    460\u001b[0m \u001b[0;34m\u001b[0m\u001b[0m\n\u001b[0;32m--> 461\u001b[0;31m         \u001b[0;32mreturn\u001b[0m \u001b[0m_arrays_to_mgr\u001b[0m\u001b[0;34m(\u001b[0m\u001b[0marrays\u001b[0m\u001b[0;34m,\u001b[0m \u001b[0mdata_names\u001b[0m\u001b[0;34m,\u001b[0m \u001b[0mindex\u001b[0m\u001b[0;34m,\u001b[0m \u001b[0mcolumns\u001b[0m\u001b[0;34m,\u001b[0m \u001b[0mdtype\u001b[0m\u001b[0;34m=\u001b[0m\u001b[0mdtype\u001b[0m\u001b[0;34m)\u001b[0m\u001b[0;34m\u001b[0m\u001b[0m\n\u001b[0m\u001b[1;32m    462\u001b[0m \u001b[0;34m\u001b[0m\u001b[0m\n\u001b[1;32m    463\u001b[0m     \u001b[0;32mdef\u001b[0m \u001b[0m_init_ndarray\u001b[0m\u001b[0;34m(\u001b[0m\u001b[0mself\u001b[0m\u001b[0;34m,\u001b[0m \u001b[0mvalues\u001b[0m\u001b[0;34m,\u001b[0m \u001b[0mindex\u001b[0m\u001b[0;34m,\u001b[0m \u001b[0mcolumns\u001b[0m\u001b[0;34m,\u001b[0m \u001b[0mdtype\u001b[0m\u001b[0;34m=\u001b[0m\u001b[0mNone\u001b[0m\u001b[0;34m,\u001b[0m \u001b[0mcopy\u001b[0m\u001b[0;34m=\u001b[0m\u001b[0mFalse\u001b[0m\u001b[0;34m)\u001b[0m\u001b[0;34m:\u001b[0m\u001b[0;34m\u001b[0m\u001b[0m\n",
      "\u001b[0;32m/Users/chandinijain/Library/Python/2.7/lib/python/site-packages/pandas/core/frame.pyc\u001b[0m in \u001b[0;36m_arrays_to_mgr\u001b[0;34m(arrays, arr_names, index, columns, dtype)\u001b[0m\n\u001b[1;32m   6171\u001b[0m     \u001b[0maxes\u001b[0m \u001b[0;34m=\u001b[0m \u001b[0;34m[\u001b[0m\u001b[0m_ensure_index\u001b[0m\u001b[0;34m(\u001b[0m\u001b[0mcolumns\u001b[0m\u001b[0;34m)\u001b[0m\u001b[0;34m,\u001b[0m \u001b[0m_ensure_index\u001b[0m\u001b[0;34m(\u001b[0m\u001b[0mindex\u001b[0m\u001b[0;34m)\u001b[0m\u001b[0;34m]\u001b[0m\u001b[0;34m\u001b[0m\u001b[0m\n\u001b[1;32m   6172\u001b[0m \u001b[0;34m\u001b[0m\u001b[0m\n\u001b[0;32m-> 6173\u001b[0;31m     \u001b[0;32mreturn\u001b[0m \u001b[0mcreate_block_manager_from_arrays\u001b[0m\u001b[0;34m(\u001b[0m\u001b[0marrays\u001b[0m\u001b[0;34m,\u001b[0m \u001b[0marr_names\u001b[0m\u001b[0;34m,\u001b[0m \u001b[0maxes\u001b[0m\u001b[0;34m)\u001b[0m\u001b[0;34m\u001b[0m\u001b[0m\n\u001b[0m\u001b[1;32m   6174\u001b[0m \u001b[0;34m\u001b[0m\u001b[0m\n\u001b[1;32m   6175\u001b[0m \u001b[0;34m\u001b[0m\u001b[0m\n",
      "\u001b[0;32m/Users/chandinijain/Library/Python/2.7/lib/python/site-packages/pandas/core/internals.pyc\u001b[0m in \u001b[0;36mcreate_block_manager_from_arrays\u001b[0;34m(arrays, names, axes)\u001b[0m\n\u001b[1;32m   4636\u001b[0m     \u001b[0;32mtry\u001b[0m\u001b[0;34m:\u001b[0m\u001b[0;34m\u001b[0m\u001b[0m\n\u001b[1;32m   4637\u001b[0m         \u001b[0mblocks\u001b[0m \u001b[0;34m=\u001b[0m \u001b[0mform_blocks\u001b[0m\u001b[0;34m(\u001b[0m\u001b[0marrays\u001b[0m\u001b[0;34m,\u001b[0m \u001b[0mnames\u001b[0m\u001b[0;34m,\u001b[0m \u001b[0maxes\u001b[0m\u001b[0;34m)\u001b[0m\u001b[0;34m\u001b[0m\u001b[0m\n\u001b[0;32m-> 4638\u001b[0;31m         \u001b[0mmgr\u001b[0m \u001b[0;34m=\u001b[0m \u001b[0mBlockManager\u001b[0m\u001b[0;34m(\u001b[0m\u001b[0mblocks\u001b[0m\u001b[0;34m,\u001b[0m \u001b[0maxes\u001b[0m\u001b[0;34m)\u001b[0m\u001b[0;34m\u001b[0m\u001b[0m\n\u001b[0m\u001b[1;32m   4639\u001b[0m         \u001b[0mmgr\u001b[0m\u001b[0;34m.\u001b[0m\u001b[0m_consolidate_inplace\u001b[0m\u001b[0;34m(\u001b[0m\u001b[0;34m)\u001b[0m\u001b[0;34m\u001b[0m\u001b[0m\n\u001b[1;32m   4640\u001b[0m         \u001b[0;32mreturn\u001b[0m \u001b[0mmgr\u001b[0m\u001b[0;34m\u001b[0m\u001b[0m\n",
      "\u001b[0;32m/Users/chandinijain/Library/Python/2.7/lib/python/site-packages/pandas/core/internals.pyc\u001b[0m in \u001b[0;36m__init__\u001b[0;34m(self, blocks, axes, do_integrity_check, fastpath)\u001b[0m\n\u001b[1;32m   3035\u001b[0m         \u001b[0mself\u001b[0m\u001b[0;34m.\u001b[0m\u001b[0m_consolidate_check\u001b[0m\u001b[0;34m(\u001b[0m\u001b[0;34m)\u001b[0m\u001b[0;34m\u001b[0m\u001b[0m\n\u001b[1;32m   3036\u001b[0m \u001b[0;34m\u001b[0m\u001b[0m\n\u001b[0;32m-> 3037\u001b[0;31m         \u001b[0mself\u001b[0m\u001b[0;34m.\u001b[0m\u001b[0m_rebuild_blknos_and_blklocs\u001b[0m\u001b[0;34m(\u001b[0m\u001b[0;34m)\u001b[0m\u001b[0;34m\u001b[0m\u001b[0m\n\u001b[0m\u001b[1;32m   3038\u001b[0m \u001b[0;34m\u001b[0m\u001b[0m\n\u001b[1;32m   3039\u001b[0m     \u001b[0;32mdef\u001b[0m \u001b[0mmake_empty\u001b[0m\u001b[0;34m(\u001b[0m\u001b[0mself\u001b[0m\u001b[0;34m,\u001b[0m \u001b[0maxes\u001b[0m\u001b[0;34m=\u001b[0m\u001b[0mNone\u001b[0m\u001b[0;34m)\u001b[0m\u001b[0;34m:\u001b[0m\u001b[0;34m\u001b[0m\u001b[0m\n",
      "\u001b[0;32m/Users/chandinijain/Library/Python/2.7/lib/python/site-packages/pandas/core/internals.pyc\u001b[0m in \u001b[0;36m_rebuild_blknos_and_blklocs\u001b[0;34m(self)\u001b[0m\n\u001b[1;32m   3116\u001b[0m         \u001b[0mUpdate\u001b[0m \u001b[0mmgr\u001b[0m\u001b[0;34m.\u001b[0m\u001b[0m_blknos\u001b[0m \u001b[0;34m/\u001b[0m \u001b[0mmgr\u001b[0m\u001b[0;34m.\u001b[0m\u001b[0m_blklocs\u001b[0m\u001b[0;34m.\u001b[0m\u001b[0;34m\u001b[0m\u001b[0m\n\u001b[1;32m   3117\u001b[0m         \"\"\"\n\u001b[0;32m-> 3118\u001b[0;31m         \u001b[0mnew_blknos\u001b[0m \u001b[0;34m=\u001b[0m \u001b[0mnp\u001b[0m\u001b[0;34m.\u001b[0m\u001b[0mempty\u001b[0m\u001b[0;34m(\u001b[0m\u001b[0mself\u001b[0m\u001b[0;34m.\u001b[0m\u001b[0mshape\u001b[0m\u001b[0;34m[\u001b[0m\u001b[0;36m0\u001b[0m\u001b[0;34m]\u001b[0m\u001b[0;34m,\u001b[0m \u001b[0mdtype\u001b[0m\u001b[0;34m=\u001b[0m\u001b[0mnp\u001b[0m\u001b[0;34m.\u001b[0m\u001b[0mint64\u001b[0m\u001b[0;34m)\u001b[0m\u001b[0;34m\u001b[0m\u001b[0m\n\u001b[0m\u001b[1;32m   3119\u001b[0m         \u001b[0mnew_blklocs\u001b[0m \u001b[0;34m=\u001b[0m \u001b[0mnp\u001b[0m\u001b[0;34m.\u001b[0m\u001b[0mempty\u001b[0m\u001b[0;34m(\u001b[0m\u001b[0mself\u001b[0m\u001b[0;34m.\u001b[0m\u001b[0mshape\u001b[0m\u001b[0;34m[\u001b[0m\u001b[0;36m0\u001b[0m\u001b[0;34m]\u001b[0m\u001b[0;34m,\u001b[0m \u001b[0mdtype\u001b[0m\u001b[0;34m=\u001b[0m\u001b[0mnp\u001b[0m\u001b[0;34m.\u001b[0m\u001b[0mint64\u001b[0m\u001b[0;34m)\u001b[0m\u001b[0;34m\u001b[0m\u001b[0m\n\u001b[1;32m   3120\u001b[0m         \u001b[0mnew_blknos\u001b[0m\u001b[0;34m.\u001b[0m\u001b[0mfill\u001b[0m\u001b[0;34m(\u001b[0m\u001b[0;34m-\u001b[0m\u001b[0;36m1\u001b[0m\u001b[0;34m)\u001b[0m\u001b[0;34m\u001b[0m\u001b[0m\n",
      "\u001b[0;31mKeyboardInterrupt\u001b[0m: "
     ]
    }
   ],
   "source": [
    "### Evaluator to getweights at everytime t and calcuate reward + check if constraints are met\n",
    "\n",
    "## specifying all the constants\n",
    "counter = 0\n",
    "l = 0.1\n",
    "k = 0.03\n",
    "g = 0.04\n",
    "U = 2.5\n",
    "t= 0\n",
    "T = 0\n",
    "P = 50\n",
    "delta = 0.5\n",
    "chi = 0.15\n",
    "eta = 0.95\n",
    "\n",
    "## initializing arrays\n",
    "dates = idx_data_noTRR.index.unique()\n",
    "wi = None\n",
    "\n",
    "## looping over all dates\n",
    "while counter < len(dates):\n",
    "#     import pdb;pdb.set_trace()\n",
    "    date = dates[counter]\n",
    "    idx_data = idx_data_noTRR[idx_data_noTRR.index <= date]\n",
    "    \n",
    "    ## load all the data for a date\n",
    "    date_data = idx_data[idx_data.index == date]\n",
    "    \n",
    "    print(index, idx_data.index[0], idx_data.index[-1])\n",
    "    \n",
    "    ## get all the identifiers for a date\n",
    "    cusips = date_data['Identifier'].unique()\n",
    "    date_data.set_index( date_data['Identifier'], inplace=True)\n",
    "    \n",
    "    #load last period info\n",
    "\n",
    "    if len(idx_data_TRR[idx_data_TRR.index == date])>0:\n",
    "        ri = pd.DataFrame(idx_data_TRR[idx_data_TRR.index == date]['TRR'])\n",
    "        ri.set_index(idx_data_TRR[idx_data_TRR.index == date]['Identifier'], inplace=True)\n",
    "        ri = ri['TRR']\n",
    "        date_data['TRR'] = ri\n",
    "    else:\n",
    "        ri = None#pd.Series(date_data['TRR'])\n",
    "        date_data['TRR'] = None\n",
    "\n",
    "    ## old weights\n",
    "    wt_1 = asset_weights[-1] if len(asset_weights)>0 else None\n",
    "    wt_2 = asset_weights[-2] if len(asset_weights)>1 else None\n",
    "    \n",
    "    ##old index weights\n",
    "    wi_t_1 = None if wi is None else wi.copy()\n",
    "    \n",
    "    ## calculate reward at start of time t from weights allocated at time t-1\n",
    "    reward = getReward(wt_1, wt_2, ri, l, k)\n",
    "    \n",
    "    ## calculate index return at start of time t from weights allocated at time t-1\n",
    "    if ri is None or wi_t_1 is None:\n",
    "        idx_returns.append(0)\n",
    "    else:\n",
    "        idx_returns.append(np.dot(wi_t_1, ri))\n",
    "    \n",
    "    #load specific feature info for time t\n",
    "    wi = pd.Series(date_data['wI']/100, index = date_data['Identifier'])\n",
    "    Dt = pd.Series(date_data['d'], index = date_data['Identifier'])\n",
    "    St = pd.Series(date_data['S'], index = date_data['Identifier'])\n",
    "    qt = pd.Series(date_data['q'], index = date_data['Identifier'])\n",
    "    \n",
    "    ## get new weights\n",
    "    if wt_1 is None:\n",
    "        wt = wi.copy()\n",
    "    else:\n",
    "        wt = getWeights(cusips, reward_list[-1], wi, Dt, St, qt, g, U, t, T, P, delta, chi, eta,\\\n",
    "                        date_data, ri, wt_1, **getKwargs()) \n",
    "\n",
    "    \n",
    "    ## store relevant info in their lists\n",
    "    asset_weights.append(wt)\n",
    "    reward_list.append(reward)\n",
    "    \n",
    "    ## verify if all constraints are met\n",
    "    if checkConstraints(wt, wt_1, wi, Dt, St, qt, g, U, t, T, P, delta, chi, eta):\n",
    "        print(\"ERROR!!!! weights don't meet contraints, exiting\")\n",
    "#         break\n",
    "    \n",
    "    dict_metrics_by_date[date] = {'returns': port_returns[-1],\n",
    "                                  'volatility': port_volatility[-1] ,\n",
    "                                  'Sharpe Ratio': sharpe_ratio[-1],\n",
    "                                  'Index Returns': idx_returns[-1],\n",
    "                                  'Reward': reward_list[-1],\n",
    "                                  '12m turnover' : turnover_list[-1]\n",
    "                                  }\n",
    "    \n",
    "    print(dict_metrics_by_date[date])\n",
    "    dict_metrics_by_date[date]['weights'] = asset_weights[-1]\n",
    "    \n",
    "    counter += 1\n",
    "    \n",
    "\n",
    "## Calculate returns for last period    \n",
    "if ri is not None:\n",
    "    reward = getReward(wt, wt_1, ri, l, k)\n",
    "    reward_list.append(reward)\n",
    "    idx_returns.append(np.dot(wi, ri))\n",
    "## check if contraints on total return and risk are met        \n",
    "Rmin = np.sum(idx_returns)\n",
    "volmax = np.std(idx_returns)\n",
    "if checkFinalConstraints(Rmin, volmax):\n",
    "    print(\"ERROR!!!! weights don't meet return/risk limit contraints, exiting\")\n",
    "else:\n",
    "    print(\"Portfolio Metrics:\")\n",
    "    print(\"Total Return: %.2f\"%np.sum(port_returns))\n",
    "    print(\"Standard Deviation: %.2f\"%port_volatility[-1])\n",
    "    print(\"Sharpe Ratio: %.2f\"%sharpe_ratio[-1])"
   ]
  },
  {
   "cell_type": "code",
   "execution_count": null,
   "metadata": {},
   "outputs": [],
   "source": [
    "with open('run1','w') as data:\n",
    "    data.write(str(dict_metrics_by_date))"
   ]
  }
 ],
 "metadata": {
  "kernelspec": {
   "display_name": "Python 2",
   "language": "python",
   "name": "python2"
  },
  "language_info": {
   "codemirror_mode": {
    "name": "ipython",
    "version": 2
   },
   "file_extension": ".py",
   "mimetype": "text/x-python",
   "name": "python",
   "nbconvert_exporter": "python",
   "pygments_lexer": "ipython2",
   "version": "2.7.10"
  }
 },
 "nbformat": 4,
 "nbformat_minor": 2
}
